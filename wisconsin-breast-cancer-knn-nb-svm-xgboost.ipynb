{
 "cells": [
  {
   "cell_type": "code",
   "execution_count": 1,
   "id": "d29a4fed",
   "metadata": {
    "_cell_guid": "b1076dfc-b9ad-4769-8c92-a6c4dae69d19",
    "_uuid": "8f2839f25d086af736a60e9eeb907d3b93b6e0e5",
    "execution": {
     "iopub.execute_input": "2023-12-14T21:11:38.871500Z",
     "iopub.status.busy": "2023-12-14T21:11:38.870768Z",
     "iopub.status.idle": "2023-12-14T21:11:39.910552Z",
     "shell.execute_reply": "2023-12-14T21:11:39.909451Z"
    },
    "papermill": {
     "duration": 1.053163,
     "end_time": "2023-12-14T21:11:39.913068",
     "exception": false,
     "start_time": "2023-12-14T21:11:38.859905",
     "status": "completed"
    },
    "tags": []
   },
   "outputs": [
    {
     "name": "stdout",
     "output_type": "stream",
     "text": [
      "/kaggle/input/breast-cancer-wisconsin-data/data.csv\n"
     ]
    }
   ],
   "source": [
    "\n",
    "\n",
    "import numpy as np # linear algebra\n",
    "import pandas as pd # data processing, CSV file I/O (e.g. pd.read_csv)\n",
    "import matplotlib.pyplot as plt\n",
    "from sklearn.model_selection import train_test_split\n",
    "from sklearn.metrics import classification_report\n",
    "\n",
    "import time\n",
    "\n",
    "\n",
    "import os\n",
    "for dirname, _, filenames in os.walk('/kaggle/input'):\n",
    "    for filename in filenames:\n",
    "        print(os.path.join(dirname, filename))\n",
    "\n"
   ]
  },
  {
   "cell_type": "code",
   "execution_count": 2,
   "id": "976e3617",
   "metadata": {
    "execution": {
     "iopub.execute_input": "2023-12-14T21:11:39.930219Z",
     "iopub.status.busy": "2023-12-14T21:11:39.929759Z",
     "iopub.status.idle": "2023-12-14T21:11:39.952246Z",
     "shell.execute_reply": "2023-12-14T21:11:39.951166Z"
    },
    "papermill": {
     "duration": 0.033997,
     "end_time": "2023-12-14T21:11:39.954999",
     "exception": false,
     "start_time": "2023-12-14T21:11:39.921002",
     "status": "completed"
    },
    "tags": []
   },
   "outputs": [],
   "source": [
    "dataset = pd.read_csv(\"/kaggle/input/breast-cancer-wisconsin-data/data.csv\")\n",
    "\n"
   ]
  },
  {
   "cell_type": "code",
   "execution_count": 3,
   "id": "df92af56",
   "metadata": {
    "execution": {
     "iopub.execute_input": "2023-12-14T21:11:39.971607Z",
     "iopub.status.busy": "2023-12-14T21:11:39.971241Z",
     "iopub.status.idle": "2023-12-14T21:11:40.004597Z",
     "shell.execute_reply": "2023-12-14T21:11:40.003007Z"
    },
    "papermill": {
     "duration": 0.044792,
     "end_time": "2023-12-14T21:11:40.007274",
     "exception": false,
     "start_time": "2023-12-14T21:11:39.962482",
     "status": "completed"
    },
    "tags": []
   },
   "outputs": [
    {
     "name": "stdout",
     "output_type": "stream",
     "text": [
      "<class 'pandas.core.frame.DataFrame'>\n",
      "RangeIndex: 569 entries, 0 to 568\n",
      "Data columns (total 33 columns):\n",
      " #   Column                   Non-Null Count  Dtype  \n",
      "---  ------                   --------------  -----  \n",
      " 0   id                       569 non-null    int64  \n",
      " 1   diagnosis                569 non-null    object \n",
      " 2   radius_mean              569 non-null    float64\n",
      " 3   texture_mean             569 non-null    float64\n",
      " 4   perimeter_mean           569 non-null    float64\n",
      " 5   area_mean                569 non-null    float64\n",
      " 6   smoothness_mean          569 non-null    float64\n",
      " 7   compactness_mean         569 non-null    float64\n",
      " 8   concavity_mean           569 non-null    float64\n",
      " 9   concave points_mean      569 non-null    float64\n",
      " 10  symmetry_mean            569 non-null    float64\n",
      " 11  fractal_dimension_mean   569 non-null    float64\n",
      " 12  radius_se                569 non-null    float64\n",
      " 13  texture_se               569 non-null    float64\n",
      " 14  perimeter_se             569 non-null    float64\n",
      " 15  area_se                  569 non-null    float64\n",
      " 16  smoothness_se            569 non-null    float64\n",
      " 17  compactness_se           569 non-null    float64\n",
      " 18  concavity_se             569 non-null    float64\n",
      " 19  concave points_se        569 non-null    float64\n",
      " 20  symmetry_se              569 non-null    float64\n",
      " 21  fractal_dimension_se     569 non-null    float64\n",
      " 22  radius_worst             569 non-null    float64\n",
      " 23  texture_worst            569 non-null    float64\n",
      " 24  perimeter_worst          569 non-null    float64\n",
      " 25  area_worst               569 non-null    float64\n",
      " 26  smoothness_worst         569 non-null    float64\n",
      " 27  compactness_worst        569 non-null    float64\n",
      " 28  concavity_worst          569 non-null    float64\n",
      " 29  concave points_worst     569 non-null    float64\n",
      " 30  symmetry_worst           569 non-null    float64\n",
      " 31  fractal_dimension_worst  569 non-null    float64\n",
      " 32  Unnamed: 32              0 non-null      float64\n",
      "dtypes: float64(31), int64(1), object(1)\n",
      "memory usage: 146.8+ KB\n"
     ]
    }
   ],
   "source": [
    "dataset.info()\n"
   ]
  },
  {
   "cell_type": "code",
   "execution_count": 4,
   "id": "32f2824c",
   "metadata": {
    "execution": {
     "iopub.execute_input": "2023-12-14T21:11:40.025049Z",
     "iopub.status.busy": "2023-12-14T21:11:40.024622Z",
     "iopub.status.idle": "2023-12-14T21:11:40.068733Z",
     "shell.execute_reply": "2023-12-14T21:11:40.067217Z"
    },
    "papermill": {
     "duration": 0.056304,
     "end_time": "2023-12-14T21:11:40.071586",
     "exception": false,
     "start_time": "2023-12-14T21:11:40.015282",
     "status": "completed"
    },
    "tags": []
   },
   "outputs": [
    {
     "data": {
      "text/html": [
       "<div>\n",
       "<style scoped>\n",
       "    .dataframe tbody tr th:only-of-type {\n",
       "        vertical-align: middle;\n",
       "    }\n",
       "\n",
       "    .dataframe tbody tr th {\n",
       "        vertical-align: top;\n",
       "    }\n",
       "\n",
       "    .dataframe thead th {\n",
       "        text-align: right;\n",
       "    }\n",
       "</style>\n",
       "<table border=\"1\" class=\"dataframe\">\n",
       "  <thead>\n",
       "    <tr style=\"text-align: right;\">\n",
       "      <th></th>\n",
       "      <th>id</th>\n",
       "      <th>diagnosis</th>\n",
       "      <th>radius_mean</th>\n",
       "      <th>texture_mean</th>\n",
       "      <th>perimeter_mean</th>\n",
       "      <th>area_mean</th>\n",
       "      <th>smoothness_mean</th>\n",
       "      <th>compactness_mean</th>\n",
       "      <th>concavity_mean</th>\n",
       "      <th>concave points_mean</th>\n",
       "      <th>...</th>\n",
       "      <th>texture_worst</th>\n",
       "      <th>perimeter_worst</th>\n",
       "      <th>area_worst</th>\n",
       "      <th>smoothness_worst</th>\n",
       "      <th>compactness_worst</th>\n",
       "      <th>concavity_worst</th>\n",
       "      <th>concave points_worst</th>\n",
       "      <th>symmetry_worst</th>\n",
       "      <th>fractal_dimension_worst</th>\n",
       "      <th>Unnamed: 32</th>\n",
       "    </tr>\n",
       "  </thead>\n",
       "  <tbody>\n",
       "    <tr>\n",
       "      <th>0</th>\n",
       "      <td>842302</td>\n",
       "      <td>M</td>\n",
       "      <td>17.99</td>\n",
       "      <td>10.38</td>\n",
       "      <td>122.80</td>\n",
       "      <td>1001.0</td>\n",
       "      <td>0.11840</td>\n",
       "      <td>0.27760</td>\n",
       "      <td>0.3001</td>\n",
       "      <td>0.14710</td>\n",
       "      <td>...</td>\n",
       "      <td>17.33</td>\n",
       "      <td>184.60</td>\n",
       "      <td>2019.0</td>\n",
       "      <td>0.1622</td>\n",
       "      <td>0.6656</td>\n",
       "      <td>0.7119</td>\n",
       "      <td>0.2654</td>\n",
       "      <td>0.4601</td>\n",
       "      <td>0.11890</td>\n",
       "      <td>NaN</td>\n",
       "    </tr>\n",
       "    <tr>\n",
       "      <th>1</th>\n",
       "      <td>842517</td>\n",
       "      <td>M</td>\n",
       "      <td>20.57</td>\n",
       "      <td>17.77</td>\n",
       "      <td>132.90</td>\n",
       "      <td>1326.0</td>\n",
       "      <td>0.08474</td>\n",
       "      <td>0.07864</td>\n",
       "      <td>0.0869</td>\n",
       "      <td>0.07017</td>\n",
       "      <td>...</td>\n",
       "      <td>23.41</td>\n",
       "      <td>158.80</td>\n",
       "      <td>1956.0</td>\n",
       "      <td>0.1238</td>\n",
       "      <td>0.1866</td>\n",
       "      <td>0.2416</td>\n",
       "      <td>0.1860</td>\n",
       "      <td>0.2750</td>\n",
       "      <td>0.08902</td>\n",
       "      <td>NaN</td>\n",
       "    </tr>\n",
       "    <tr>\n",
       "      <th>2</th>\n",
       "      <td>84300903</td>\n",
       "      <td>M</td>\n",
       "      <td>19.69</td>\n",
       "      <td>21.25</td>\n",
       "      <td>130.00</td>\n",
       "      <td>1203.0</td>\n",
       "      <td>0.10960</td>\n",
       "      <td>0.15990</td>\n",
       "      <td>0.1974</td>\n",
       "      <td>0.12790</td>\n",
       "      <td>...</td>\n",
       "      <td>25.53</td>\n",
       "      <td>152.50</td>\n",
       "      <td>1709.0</td>\n",
       "      <td>0.1444</td>\n",
       "      <td>0.4245</td>\n",
       "      <td>0.4504</td>\n",
       "      <td>0.2430</td>\n",
       "      <td>0.3613</td>\n",
       "      <td>0.08758</td>\n",
       "      <td>NaN</td>\n",
       "    </tr>\n",
       "    <tr>\n",
       "      <th>3</th>\n",
       "      <td>84348301</td>\n",
       "      <td>M</td>\n",
       "      <td>11.42</td>\n",
       "      <td>20.38</td>\n",
       "      <td>77.58</td>\n",
       "      <td>386.1</td>\n",
       "      <td>0.14250</td>\n",
       "      <td>0.28390</td>\n",
       "      <td>0.2414</td>\n",
       "      <td>0.10520</td>\n",
       "      <td>...</td>\n",
       "      <td>26.50</td>\n",
       "      <td>98.87</td>\n",
       "      <td>567.7</td>\n",
       "      <td>0.2098</td>\n",
       "      <td>0.8663</td>\n",
       "      <td>0.6869</td>\n",
       "      <td>0.2575</td>\n",
       "      <td>0.6638</td>\n",
       "      <td>0.17300</td>\n",
       "      <td>NaN</td>\n",
       "    </tr>\n",
       "    <tr>\n",
       "      <th>4</th>\n",
       "      <td>84358402</td>\n",
       "      <td>M</td>\n",
       "      <td>20.29</td>\n",
       "      <td>14.34</td>\n",
       "      <td>135.10</td>\n",
       "      <td>1297.0</td>\n",
       "      <td>0.10030</td>\n",
       "      <td>0.13280</td>\n",
       "      <td>0.1980</td>\n",
       "      <td>0.10430</td>\n",
       "      <td>...</td>\n",
       "      <td>16.67</td>\n",
       "      <td>152.20</td>\n",
       "      <td>1575.0</td>\n",
       "      <td>0.1374</td>\n",
       "      <td>0.2050</td>\n",
       "      <td>0.4000</td>\n",
       "      <td>0.1625</td>\n",
       "      <td>0.2364</td>\n",
       "      <td>0.07678</td>\n",
       "      <td>NaN</td>\n",
       "    </tr>\n",
       "  </tbody>\n",
       "</table>\n",
       "<p>5 rows × 33 columns</p>\n",
       "</div>"
      ],
      "text/plain": [
       "         id diagnosis  radius_mean  texture_mean  perimeter_mean  area_mean  \\\n",
       "0    842302         M        17.99         10.38          122.80     1001.0   \n",
       "1    842517         M        20.57         17.77          132.90     1326.0   \n",
       "2  84300903         M        19.69         21.25          130.00     1203.0   \n",
       "3  84348301         M        11.42         20.38           77.58      386.1   \n",
       "4  84358402         M        20.29         14.34          135.10     1297.0   \n",
       "\n",
       "   smoothness_mean  compactness_mean  concavity_mean  concave points_mean  \\\n",
       "0          0.11840           0.27760          0.3001              0.14710   \n",
       "1          0.08474           0.07864          0.0869              0.07017   \n",
       "2          0.10960           0.15990          0.1974              0.12790   \n",
       "3          0.14250           0.28390          0.2414              0.10520   \n",
       "4          0.10030           0.13280          0.1980              0.10430   \n",
       "\n",
       "   ...  texture_worst  perimeter_worst  area_worst  smoothness_worst  \\\n",
       "0  ...          17.33           184.60      2019.0            0.1622   \n",
       "1  ...          23.41           158.80      1956.0            0.1238   \n",
       "2  ...          25.53           152.50      1709.0            0.1444   \n",
       "3  ...          26.50            98.87       567.7            0.2098   \n",
       "4  ...          16.67           152.20      1575.0            0.1374   \n",
       "\n",
       "   compactness_worst  concavity_worst  concave points_worst  symmetry_worst  \\\n",
       "0             0.6656           0.7119                0.2654          0.4601   \n",
       "1             0.1866           0.2416                0.1860          0.2750   \n",
       "2             0.4245           0.4504                0.2430          0.3613   \n",
       "3             0.8663           0.6869                0.2575          0.6638   \n",
       "4             0.2050           0.4000                0.1625          0.2364   \n",
       "\n",
       "   fractal_dimension_worst  Unnamed: 32  \n",
       "0                  0.11890          NaN  \n",
       "1                  0.08902          NaN  \n",
       "2                  0.08758          NaN  \n",
       "3                  0.17300          NaN  \n",
       "4                  0.07678          NaN  \n",
       "\n",
       "[5 rows x 33 columns]"
      ]
     },
     "execution_count": 4,
     "metadata": {},
     "output_type": "execute_result"
    }
   ],
   "source": [
    "dataset.head()"
   ]
  },
  {
   "cell_type": "markdown",
   "id": "9572bf6c",
   "metadata": {
    "papermill": {
     "duration": 0.008104,
     "end_time": "2023-12-14T21:11:40.089193",
     "exception": false,
     "start_time": "2023-12-14T21:11:40.081089",
     "status": "completed"
    },
    "tags": []
   },
   "source": [
    "remove id and unamed32 cause they are irrelevant for diagnosis"
   ]
  },
  {
   "cell_type": "code",
   "execution_count": 5,
   "id": "e123f5d3",
   "metadata": {
    "execution": {
     "iopub.execute_input": "2023-12-14T21:11:40.107014Z",
     "iopub.status.busy": "2023-12-14T21:11:40.106566Z",
     "iopub.status.idle": "2023-12-14T21:11:40.147178Z",
     "shell.execute_reply": "2023-12-14T21:11:40.145813Z"
    },
    "papermill": {
     "duration": 0.052279,
     "end_time": "2023-12-14T21:11:40.149698",
     "exception": false,
     "start_time": "2023-12-14T21:11:40.097419",
     "status": "completed"
    },
    "tags": []
   },
   "outputs": [
    {
     "data": {
      "text/html": [
       "<div>\n",
       "<style scoped>\n",
       "    .dataframe tbody tr th:only-of-type {\n",
       "        vertical-align: middle;\n",
       "    }\n",
       "\n",
       "    .dataframe tbody tr th {\n",
       "        vertical-align: top;\n",
       "    }\n",
       "\n",
       "    .dataframe thead th {\n",
       "        text-align: right;\n",
       "    }\n",
       "</style>\n",
       "<table border=\"1\" class=\"dataframe\">\n",
       "  <thead>\n",
       "    <tr style=\"text-align: right;\">\n",
       "      <th></th>\n",
       "      <th>id</th>\n",
       "      <th>diagnosis</th>\n",
       "      <th>radius_mean</th>\n",
       "      <th>texture_mean</th>\n",
       "      <th>perimeter_mean</th>\n",
       "      <th>area_mean</th>\n",
       "      <th>smoothness_mean</th>\n",
       "      <th>compactness_mean</th>\n",
       "      <th>concavity_mean</th>\n",
       "      <th>concave points_mean</th>\n",
       "      <th>...</th>\n",
       "      <th>texture_worst</th>\n",
       "      <th>perimeter_worst</th>\n",
       "      <th>area_worst</th>\n",
       "      <th>smoothness_worst</th>\n",
       "      <th>compactness_worst</th>\n",
       "      <th>concavity_worst</th>\n",
       "      <th>concave points_worst</th>\n",
       "      <th>symmetry_worst</th>\n",
       "      <th>fractal_dimension_worst</th>\n",
       "      <th>Unnamed: 32</th>\n",
       "    </tr>\n",
       "  </thead>\n",
       "  <tbody>\n",
       "    <tr>\n",
       "      <th>0</th>\n",
       "      <td>842302</td>\n",
       "      <td>M</td>\n",
       "      <td>17.99</td>\n",
       "      <td>10.38</td>\n",
       "      <td>122.80</td>\n",
       "      <td>1001.0</td>\n",
       "      <td>0.11840</td>\n",
       "      <td>0.27760</td>\n",
       "      <td>0.30010</td>\n",
       "      <td>0.14710</td>\n",
       "      <td>...</td>\n",
       "      <td>17.33</td>\n",
       "      <td>184.60</td>\n",
       "      <td>2019.0</td>\n",
       "      <td>0.16220</td>\n",
       "      <td>0.66560</td>\n",
       "      <td>0.7119</td>\n",
       "      <td>0.2654</td>\n",
       "      <td>0.4601</td>\n",
       "      <td>0.11890</td>\n",
       "      <td>NaN</td>\n",
       "    </tr>\n",
       "    <tr>\n",
       "      <th>1</th>\n",
       "      <td>842517</td>\n",
       "      <td>M</td>\n",
       "      <td>20.57</td>\n",
       "      <td>17.77</td>\n",
       "      <td>132.90</td>\n",
       "      <td>1326.0</td>\n",
       "      <td>0.08474</td>\n",
       "      <td>0.07864</td>\n",
       "      <td>0.08690</td>\n",
       "      <td>0.07017</td>\n",
       "      <td>...</td>\n",
       "      <td>23.41</td>\n",
       "      <td>158.80</td>\n",
       "      <td>1956.0</td>\n",
       "      <td>0.12380</td>\n",
       "      <td>0.18660</td>\n",
       "      <td>0.2416</td>\n",
       "      <td>0.1860</td>\n",
       "      <td>0.2750</td>\n",
       "      <td>0.08902</td>\n",
       "      <td>NaN</td>\n",
       "    </tr>\n",
       "    <tr>\n",
       "      <th>2</th>\n",
       "      <td>84300903</td>\n",
       "      <td>M</td>\n",
       "      <td>19.69</td>\n",
       "      <td>21.25</td>\n",
       "      <td>130.00</td>\n",
       "      <td>1203.0</td>\n",
       "      <td>0.10960</td>\n",
       "      <td>0.15990</td>\n",
       "      <td>0.19740</td>\n",
       "      <td>0.12790</td>\n",
       "      <td>...</td>\n",
       "      <td>25.53</td>\n",
       "      <td>152.50</td>\n",
       "      <td>1709.0</td>\n",
       "      <td>0.14440</td>\n",
       "      <td>0.42450</td>\n",
       "      <td>0.4504</td>\n",
       "      <td>0.2430</td>\n",
       "      <td>0.3613</td>\n",
       "      <td>0.08758</td>\n",
       "      <td>NaN</td>\n",
       "    </tr>\n",
       "    <tr>\n",
       "      <th>3</th>\n",
       "      <td>84348301</td>\n",
       "      <td>M</td>\n",
       "      <td>11.42</td>\n",
       "      <td>20.38</td>\n",
       "      <td>77.58</td>\n",
       "      <td>386.1</td>\n",
       "      <td>0.14250</td>\n",
       "      <td>0.28390</td>\n",
       "      <td>0.24140</td>\n",
       "      <td>0.10520</td>\n",
       "      <td>...</td>\n",
       "      <td>26.50</td>\n",
       "      <td>98.87</td>\n",
       "      <td>567.7</td>\n",
       "      <td>0.20980</td>\n",
       "      <td>0.86630</td>\n",
       "      <td>0.6869</td>\n",
       "      <td>0.2575</td>\n",
       "      <td>0.6638</td>\n",
       "      <td>0.17300</td>\n",
       "      <td>NaN</td>\n",
       "    </tr>\n",
       "    <tr>\n",
       "      <th>4</th>\n",
       "      <td>84358402</td>\n",
       "      <td>M</td>\n",
       "      <td>20.29</td>\n",
       "      <td>14.34</td>\n",
       "      <td>135.10</td>\n",
       "      <td>1297.0</td>\n",
       "      <td>0.10030</td>\n",
       "      <td>0.13280</td>\n",
       "      <td>0.19800</td>\n",
       "      <td>0.10430</td>\n",
       "      <td>...</td>\n",
       "      <td>16.67</td>\n",
       "      <td>152.20</td>\n",
       "      <td>1575.0</td>\n",
       "      <td>0.13740</td>\n",
       "      <td>0.20500</td>\n",
       "      <td>0.4000</td>\n",
       "      <td>0.1625</td>\n",
       "      <td>0.2364</td>\n",
       "      <td>0.07678</td>\n",
       "      <td>NaN</td>\n",
       "    </tr>\n",
       "    <tr>\n",
       "      <th>...</th>\n",
       "      <td>...</td>\n",
       "      <td>...</td>\n",
       "      <td>...</td>\n",
       "      <td>...</td>\n",
       "      <td>...</td>\n",
       "      <td>...</td>\n",
       "      <td>...</td>\n",
       "      <td>...</td>\n",
       "      <td>...</td>\n",
       "      <td>...</td>\n",
       "      <td>...</td>\n",
       "      <td>...</td>\n",
       "      <td>...</td>\n",
       "      <td>...</td>\n",
       "      <td>...</td>\n",
       "      <td>...</td>\n",
       "      <td>...</td>\n",
       "      <td>...</td>\n",
       "      <td>...</td>\n",
       "      <td>...</td>\n",
       "      <td>...</td>\n",
       "    </tr>\n",
       "    <tr>\n",
       "      <th>564</th>\n",
       "      <td>926424</td>\n",
       "      <td>M</td>\n",
       "      <td>21.56</td>\n",
       "      <td>22.39</td>\n",
       "      <td>142.00</td>\n",
       "      <td>1479.0</td>\n",
       "      <td>0.11100</td>\n",
       "      <td>0.11590</td>\n",
       "      <td>0.24390</td>\n",
       "      <td>0.13890</td>\n",
       "      <td>...</td>\n",
       "      <td>26.40</td>\n",
       "      <td>166.10</td>\n",
       "      <td>2027.0</td>\n",
       "      <td>0.14100</td>\n",
       "      <td>0.21130</td>\n",
       "      <td>0.4107</td>\n",
       "      <td>0.2216</td>\n",
       "      <td>0.2060</td>\n",
       "      <td>0.07115</td>\n",
       "      <td>NaN</td>\n",
       "    </tr>\n",
       "    <tr>\n",
       "      <th>565</th>\n",
       "      <td>926682</td>\n",
       "      <td>M</td>\n",
       "      <td>20.13</td>\n",
       "      <td>28.25</td>\n",
       "      <td>131.20</td>\n",
       "      <td>1261.0</td>\n",
       "      <td>0.09780</td>\n",
       "      <td>0.10340</td>\n",
       "      <td>0.14400</td>\n",
       "      <td>0.09791</td>\n",
       "      <td>...</td>\n",
       "      <td>38.25</td>\n",
       "      <td>155.00</td>\n",
       "      <td>1731.0</td>\n",
       "      <td>0.11660</td>\n",
       "      <td>0.19220</td>\n",
       "      <td>0.3215</td>\n",
       "      <td>0.1628</td>\n",
       "      <td>0.2572</td>\n",
       "      <td>0.06637</td>\n",
       "      <td>NaN</td>\n",
       "    </tr>\n",
       "    <tr>\n",
       "      <th>566</th>\n",
       "      <td>926954</td>\n",
       "      <td>M</td>\n",
       "      <td>16.60</td>\n",
       "      <td>28.08</td>\n",
       "      <td>108.30</td>\n",
       "      <td>858.1</td>\n",
       "      <td>0.08455</td>\n",
       "      <td>0.10230</td>\n",
       "      <td>0.09251</td>\n",
       "      <td>0.05302</td>\n",
       "      <td>...</td>\n",
       "      <td>34.12</td>\n",
       "      <td>126.70</td>\n",
       "      <td>1124.0</td>\n",
       "      <td>0.11390</td>\n",
       "      <td>0.30940</td>\n",
       "      <td>0.3403</td>\n",
       "      <td>0.1418</td>\n",
       "      <td>0.2218</td>\n",
       "      <td>0.07820</td>\n",
       "      <td>NaN</td>\n",
       "    </tr>\n",
       "    <tr>\n",
       "      <th>567</th>\n",
       "      <td>927241</td>\n",
       "      <td>M</td>\n",
       "      <td>20.60</td>\n",
       "      <td>29.33</td>\n",
       "      <td>140.10</td>\n",
       "      <td>1265.0</td>\n",
       "      <td>0.11780</td>\n",
       "      <td>0.27700</td>\n",
       "      <td>0.35140</td>\n",
       "      <td>0.15200</td>\n",
       "      <td>...</td>\n",
       "      <td>39.42</td>\n",
       "      <td>184.60</td>\n",
       "      <td>1821.0</td>\n",
       "      <td>0.16500</td>\n",
       "      <td>0.86810</td>\n",
       "      <td>0.9387</td>\n",
       "      <td>0.2650</td>\n",
       "      <td>0.4087</td>\n",
       "      <td>0.12400</td>\n",
       "      <td>NaN</td>\n",
       "    </tr>\n",
       "    <tr>\n",
       "      <th>568</th>\n",
       "      <td>92751</td>\n",
       "      <td>B</td>\n",
       "      <td>7.76</td>\n",
       "      <td>24.54</td>\n",
       "      <td>47.92</td>\n",
       "      <td>181.0</td>\n",
       "      <td>0.05263</td>\n",
       "      <td>0.04362</td>\n",
       "      <td>0.00000</td>\n",
       "      <td>0.00000</td>\n",
       "      <td>...</td>\n",
       "      <td>30.37</td>\n",
       "      <td>59.16</td>\n",
       "      <td>268.6</td>\n",
       "      <td>0.08996</td>\n",
       "      <td>0.06444</td>\n",
       "      <td>0.0000</td>\n",
       "      <td>0.0000</td>\n",
       "      <td>0.2871</td>\n",
       "      <td>0.07039</td>\n",
       "      <td>NaN</td>\n",
       "    </tr>\n",
       "  </tbody>\n",
       "</table>\n",
       "<p>569 rows × 33 columns</p>\n",
       "</div>"
      ],
      "text/plain": [
       "           id diagnosis  radius_mean  texture_mean  perimeter_mean  area_mean  \\\n",
       "0      842302         M        17.99         10.38          122.80     1001.0   \n",
       "1      842517         M        20.57         17.77          132.90     1326.0   \n",
       "2    84300903         M        19.69         21.25          130.00     1203.0   \n",
       "3    84348301         M        11.42         20.38           77.58      386.1   \n",
       "4    84358402         M        20.29         14.34          135.10     1297.0   \n",
       "..        ...       ...          ...           ...             ...        ...   \n",
       "564    926424         M        21.56         22.39          142.00     1479.0   \n",
       "565    926682         M        20.13         28.25          131.20     1261.0   \n",
       "566    926954         M        16.60         28.08          108.30      858.1   \n",
       "567    927241         M        20.60         29.33          140.10     1265.0   \n",
       "568     92751         B         7.76         24.54           47.92      181.0   \n",
       "\n",
       "     smoothness_mean  compactness_mean  concavity_mean  concave points_mean  \\\n",
       "0            0.11840           0.27760         0.30010              0.14710   \n",
       "1            0.08474           0.07864         0.08690              0.07017   \n",
       "2            0.10960           0.15990         0.19740              0.12790   \n",
       "3            0.14250           0.28390         0.24140              0.10520   \n",
       "4            0.10030           0.13280         0.19800              0.10430   \n",
       "..               ...               ...             ...                  ...   \n",
       "564          0.11100           0.11590         0.24390              0.13890   \n",
       "565          0.09780           0.10340         0.14400              0.09791   \n",
       "566          0.08455           0.10230         0.09251              0.05302   \n",
       "567          0.11780           0.27700         0.35140              0.15200   \n",
       "568          0.05263           0.04362         0.00000              0.00000   \n",
       "\n",
       "     ...  texture_worst  perimeter_worst  area_worst  smoothness_worst  \\\n",
       "0    ...          17.33           184.60      2019.0           0.16220   \n",
       "1    ...          23.41           158.80      1956.0           0.12380   \n",
       "2    ...          25.53           152.50      1709.0           0.14440   \n",
       "3    ...          26.50            98.87       567.7           0.20980   \n",
       "4    ...          16.67           152.20      1575.0           0.13740   \n",
       "..   ...            ...              ...         ...               ...   \n",
       "564  ...          26.40           166.10      2027.0           0.14100   \n",
       "565  ...          38.25           155.00      1731.0           0.11660   \n",
       "566  ...          34.12           126.70      1124.0           0.11390   \n",
       "567  ...          39.42           184.60      1821.0           0.16500   \n",
       "568  ...          30.37            59.16       268.6           0.08996   \n",
       "\n",
       "     compactness_worst  concavity_worst  concave points_worst  symmetry_worst  \\\n",
       "0              0.66560           0.7119                0.2654          0.4601   \n",
       "1              0.18660           0.2416                0.1860          0.2750   \n",
       "2              0.42450           0.4504                0.2430          0.3613   \n",
       "3              0.86630           0.6869                0.2575          0.6638   \n",
       "4              0.20500           0.4000                0.1625          0.2364   \n",
       "..                 ...              ...                   ...             ...   \n",
       "564            0.21130           0.4107                0.2216          0.2060   \n",
       "565            0.19220           0.3215                0.1628          0.2572   \n",
       "566            0.30940           0.3403                0.1418          0.2218   \n",
       "567            0.86810           0.9387                0.2650          0.4087   \n",
       "568            0.06444           0.0000                0.0000          0.2871   \n",
       "\n",
       "     fractal_dimension_worst  Unnamed: 32  \n",
       "0                    0.11890          NaN  \n",
       "1                    0.08902          NaN  \n",
       "2                    0.08758          NaN  \n",
       "3                    0.17300          NaN  \n",
       "4                    0.07678          NaN  \n",
       "..                       ...          ...  \n",
       "564                  0.07115          NaN  \n",
       "565                  0.06637          NaN  \n",
       "566                  0.07820          NaN  \n",
       "567                  0.12400          NaN  \n",
       "568                  0.07039          NaN  \n",
       "\n",
       "[569 rows x 33 columns]"
      ]
     },
     "execution_count": 5,
     "metadata": {},
     "output_type": "execute_result"
    }
   ],
   "source": [
    "dataset"
   ]
  },
  {
   "cell_type": "markdown",
   "id": "f2e47598",
   "metadata": {
    "execution": {
     "iopub.execute_input": "2023-04-05T14:15:45.654483Z",
     "iopub.status.busy": "2023-04-05T14:15:45.653840Z",
     "iopub.status.idle": "2023-04-05T14:15:45.662316Z",
     "shell.execute_reply": "2023-04-05T14:15:45.660950Z",
     "shell.execute_reply.started": "2023-04-05T14:15:45.654445Z"
    },
    "papermill": {
     "duration": 0.008974,
     "end_time": "2023-12-14T21:11:40.167856",
     "exception": false,
     "start_time": "2023-12-14T21:11:40.158882",
     "status": "completed"
    },
    "tags": []
   },
   "source": [
    "### remove id\n",
    "dataset = dataset.drop([\"id\"], axis = 1)\n",
    "#remove unnamed 32\n",
    "dataset = dataset.drop([\"Unnamed: 32\"], axis = 1)\n"
   ]
  },
  {
   "cell_type": "code",
   "execution_count": 6,
   "id": "19a9bcdd",
   "metadata": {
    "execution": {
     "iopub.execute_input": "2023-12-14T21:11:40.189184Z",
     "iopub.status.busy": "2023-12-14T21:11:40.187880Z",
     "iopub.status.idle": "2023-12-14T21:11:40.196931Z",
     "shell.execute_reply": "2023-12-14T21:11:40.195569Z"
    },
    "papermill": {
     "duration": 0.022353,
     "end_time": "2023-12-14T21:11:40.199515",
     "exception": false,
     "start_time": "2023-12-14T21:11:40.177162",
     "status": "completed"
    },
    "tags": []
   },
   "outputs": [],
   "source": [
    "M = dataset[dataset.diagnosis == \"M\"]\n",
    "B = dataset[dataset.diagnosis == \"B\"]"
   ]
  },
  {
   "cell_type": "code",
   "execution_count": 7,
   "id": "b5794bb8",
   "metadata": {
    "execution": {
     "iopub.execute_input": "2023-12-14T21:11:40.218833Z",
     "iopub.status.busy": "2023-12-14T21:11:40.218475Z",
     "iopub.status.idle": "2023-12-14T21:11:40.531575Z",
     "shell.execute_reply": "2023-12-14T21:11:40.530310Z"
    },
    "papermill": {
     "duration": 0.32656,
     "end_time": "2023-12-14T21:11:40.534967",
     "exception": false,
     "start_time": "2023-12-14T21:11:40.208407",
     "status": "completed"
    },
    "tags": []
   },
   "outputs": [
    {
     "data": {
      "image/png": "[encoded data removed]",
      "text/plain": [
       "<Figure size 640x480 with 1 Axes>"
      ]
     },
     "metadata": {},
     "output_type": "display_data"
    }
   ],
   "source": [
    "plt.title(\"Malignant vs Benign Tumor\")\n",
    "plt.xlabel(\"Radius Mean\")\n",
    "plt.ylabel(\"Texture Mean\")\n",
    "plt.scatter(M.radius_mean, M.texture_mean, color = \"red\", label = \"Malignant\", alpha = 0.3)\n",
    "plt.scatter(B.radius_mean, B.texture_mean, color = \"lime\", label = \"Benign\", alpha = 0.3)\n",
    "plt.legend()\n",
    "plt.show()"
   ]
  },
  {
   "cell_type": "markdown",
   "id": "39251c4e",
   "metadata": {
    "execution": {
     "iopub.execute_input": "2023-04-05T14:15:45.968635Z",
     "iopub.status.busy": "2023-04-05T14:15:45.968112Z",
     "iopub.status.idle": "2023-04-05T14:15:45.981736Z",
     "shell.execute_reply": "2023-04-05T14:15:45.980360Z",
     "shell.execute_reply.started": "2023-04-05T14:15:45.968579Z"
    },
    "papermill": {
     "duration": 0.009772,
     "end_time": "2023-12-14T21:11:40.555394",
     "exception": false,
     "start_time": "2023-12-14T21:11:40.545622",
     "status": "completed"
    },
    "tags": []
   },
   "source": [
    "#0 if M else 1 if B\n",
    "dataset.diagnosis = [1 if i == \"M\" else 0 for i in dataset.diagnosis]\n",
    "#remove the column that has diagnosis\n",
    "x = dataset.drop([\"diagnosis\"], axis = 1)\n",
    "#give then 0 and 1 values instead\n",
    "y = dataset.diagnosis.values\n",
    "#normalization of attributes\n",
    "x = (x - np.min(x)) / (np.max(x) - np.min(x))"
   ]
  },
  {
   "cell_type": "markdown",
   "id": "39de78e6",
   "metadata": {
    "papermill": {
     "duration": 0.009515,
     "end_time": "2023-12-14T21:11:40.575026",
     "exception": false,
     "start_time": "2023-12-14T21:11:40.565511",
     "status": "completed"
    },
    "tags": []
   },
   "source": [
    "Bayesian Naive\n"
   ]
  },
  {
   "cell_type": "code",
   "execution_count": 8,
   "id": "8ac26b53",
   "metadata": {
    "execution": {
     "iopub.execute_input": "2023-12-14T21:11:40.597475Z",
     "iopub.status.busy": "2023-12-14T21:11:40.597060Z",
     "iopub.status.idle": "2023-12-14T21:11:40.608846Z",
     "shell.execute_reply": "2023-12-14T21:11:40.607884Z"
    },
    "papermill": {
     "duration": 0.026137,
     "end_time": "2023-12-14T21:11:40.611253",
     "exception": false,
     "start_time": "2023-12-14T21:11:40.585116",
     "status": "completed"
    },
    "tags": []
   },
   "outputs": [],
   "source": [
    "dataset = dataset.drop(['id', 'Unnamed: 32'], axis=1)\n",
    "\n",
    "# Convert 'diagnosis' column to binary values\n",
    "dataset['diagnosis'] = dataset['diagnosis'].map({'M': 1, 'B': 0})\n",
    "\n",
    "# Split data into features and target\n",
    "x = dataset.drop(['diagnosis'], axis=1)\n",
    "y = dataset['diagnosis']\n",
    "\n",
    "# Split data into training and testing sets\n",
    "X_train, X_test, y_train, y_test = train_test_split(x, y, test_size=0.2, random_state=42)\n"
   ]
  },
  {
   "cell_type": "code",
   "execution_count": 9,
   "id": "37032b4d",
   "metadata": {
    "execution": {
     "iopub.execute_input": "2023-12-14T21:11:40.633689Z",
     "iopub.status.busy": "2023-12-14T21:11:40.632994Z",
     "iopub.status.idle": "2023-12-14T21:11:41.328442Z",
     "shell.execute_reply": "2023-12-14T21:11:41.323959Z"
    },
    "papermill": {
     "duration": 0.712442,
     "end_time": "2023-12-14T21:11:41.333797",
     "exception": false,
     "start_time": "2023-12-14T21:11:40.621355",
     "status": "completed"
    },
    "tags": []
   },
   "outputs": [
    {
     "data": {
      "image/png": "[encoded data removed]",
      "text/plain": [
       "<Figure size 640x480 with 1 Axes>"
      ]
     },
     "metadata": {},
     "output_type": "display_data"
    },
    {
     "name": "stdout",
     "output_type": "stream",
     "text": [
      "Adjusted Rand Index: 0.659\n",
      "Homogeneity Score: 0.531\n",
      "Silhouette Score: 0.345\n"
     ]
    }
   ],
   "source": [
    "#KMEANS\n",
    "from sklearn.preprocessing import StandardScaler\n",
    "from sklearn.cluster import KMeans\n",
    "import matplotlib.pyplot as plt\n",
    "from sklearn.decomposition import PCA\n",
    "from sklearn.metrics import adjusted_rand_score\n",
    "from sklearn.metrics import homogeneity_score\n",
    "from sklearn.metrics import silhouette_score\n",
    "\n",
    "scaler = StandardScaler()\n",
    "X_scaled = scaler.fit_transform(x)\n",
    "kmeans = KMeans(n_clusters=2, random_state=42)\n",
    "pca = PCA(n_components=2)\n",
    "X_pca = pca.fit_transform(X_scaled)\n",
    "kmeans.fit(X_pca)\n",
    "cluster_labels = kmeans.labels_\n",
    "cluster_centers = kmeans.cluster_centers_\n",
    "\n",
    "\n",
    "plt.scatter(X_pca[:, 0], X_pca[:, 1], c=cluster_labels)\n",
    "plt.scatter(cluster_centers[:, 0], cluster_centers[:, 1], marker='x', s=200, linewidths=3, color='r')\n",
    "plt.xlabel('PCA Component 1')\n",
    "plt.ylabel('PCA Component 2')\n",
    "plt.show()\n",
    "\n",
    "ari = adjusted_rand_score(y, cluster_labels)\n",
    "print(\"Adjusted Rand Index: {:.3f}\".format(ari))\n",
    "\n",
    "homogeneity = homogeneity_score(y, cluster_labels)\n",
    "print(\"Homogeneity Score: {:.3f}\".format(homogeneity))\n",
    "\n",
    "silhouette = silhouette_score(X_scaled, cluster_labels)\n",
    "print(\"Silhouette Score: {:.3f}\".format(silhouette))"
   ]
  },
  {
   "cell_type": "code",
   "execution_count": 10,
   "id": "8bc41e2b",
   "metadata": {
    "execution": {
     "iopub.execute_input": "2023-12-14T21:11:41.385736Z",
     "iopub.status.busy": "2023-12-14T21:11:41.384609Z",
     "iopub.status.idle": "2023-12-14T21:11:41.456775Z",
     "shell.execute_reply": "2023-12-14T21:11:41.455058Z"
    },
    "papermill": {
     "duration": 0.102681,
     "end_time": "2023-12-14T21:11:41.461041",
     "exception": false,
     "start_time": "2023-12-14T21:11:41.358360",
     "status": "completed"
    },
    "tags": []
   },
   "outputs": [
    {
     "name": "stdout",
     "output_type": "stream",
     "text": [
      "KNN classification report (with random split):\n",
      "\n",
      "              precision    recall  f1-score   support\n",
      "\n",
      "           0       0.93      1.00      0.97        71\n",
      "           1       1.00      0.88      0.94        43\n",
      "\n",
      "    accuracy                           0.96       114\n",
      "   macro avg       0.97      0.94      0.95       114\n",
      "weighted avg       0.96      0.96      0.96       114\n",
      "\n",
      "Score: 0.956, Error: 0.044, Time: 0.019s\n"
     ]
    }
   ],
   "source": [
    "#KNN WITH RANDOM SPLIT\n",
    "from sklearn.model_selection import train_test_split\n",
    "from sklearn.preprocessing import StandardScaler\n",
    "from sklearn.neighbors import KNeighborsClassifier\n",
    "\n",
    "\n",
    "# Create a KNN classifier and fit it to the training data\n",
    "start = time.time()\n",
    "knn = KNeighborsClassifier()\n",
    "knn.fit(X_train, y_train)\n",
    "y_pred = knn.predict(X_test)\n",
    "end = time.time()\n",
    "knn_error = 1 - knn.score(X_test, y_test)\n",
    "knn_time = end - start\n",
    "knn_score = knn.score(X_test, y_test)\n",
    "print(\"KNN classification report (with random split):\\n\")\n",
    "print(classification_report(y_test, y_pred))\n",
    "print(f\"Score: {knn_score:.3f}, Error: {knn_error:.3f}, Time: {knn_time:.3f}s\")"
   ]
  },
  {
   "cell_type": "code",
   "execution_count": 11,
   "id": "f214f321",
   "metadata": {
    "execution": {
     "iopub.execute_input": "2023-12-14T21:11:41.510609Z",
     "iopub.status.busy": "2023-12-14T21:11:41.509910Z",
     "iopub.status.idle": "2023-12-14T21:11:41.560153Z",
     "shell.execute_reply": "2023-12-14T21:11:41.558846Z"
    },
    "papermill": {
     "duration": 0.078255,
     "end_time": "2023-12-14T21:11:41.562940",
     "exception": false,
     "start_time": "2023-12-14T21:11:41.484685",
     "status": "completed"
    },
    "tags": []
   },
   "outputs": [
    {
     "name": "stdout",
     "output_type": "stream",
     "text": [
      "Decision Tree classification report (with random split):\n",
      "\n",
      "              precision    recall  f1-score   support\n",
      "\n",
      "           0       0.94      0.94      0.94        71\n",
      "           1       0.91      0.91      0.91        43\n",
      "\n",
      "    accuracy                           0.93       114\n",
      "   macro avg       0.93      0.93      0.93       114\n",
      "weighted avg       0.93      0.93      0.93       114\n",
      "\n",
      "Score: 0.930, Error: 0.070, Time: 0.023s\n"
     ]
    }
   ],
   "source": [
    "#DECISON TREE WITH RANDOM SPLIT\n",
    "from sklearn.tree import DecisionTreeClassifier\n",
    "from sklearn.model_selection import train_test_split\n",
    "from sklearn.metrics import classification_report\n",
    "\n",
    "\n",
    "# Create a decision tree classifier\n",
    "start = time.time()\n",
    "dtc = DecisionTreeClassifier()\n",
    "dtc.fit(X_train, y_train)\n",
    "y_pred = dtc.predict(X_test)\n",
    "end = time.time()\n",
    "dtc_error = 1 - dtc.score(X_test, y_test)\n",
    "dtc_time = end - start\n",
    "dtc_score = dtc.score(X_test, y_test)\n",
    "print(\"Decision Tree classification report (with random split):\\n\")\n",
    "print(classification_report(y_test, y_pred))\n",
    "print(f\"Score: {dtc_score:.3f}, Error: {dtc_error:.3f}, Time: {dtc_time:.3f}s\")\n",
    "\n"
   ]
  },
  {
   "cell_type": "code",
   "execution_count": 12,
   "id": "57085879",
   "metadata": {
    "execution": {
     "iopub.execute_input": "2023-12-14T21:11:41.587852Z",
     "iopub.status.busy": "2023-12-14T21:11:41.587123Z",
     "iopub.status.idle": "2023-12-14T21:11:41.617532Z",
     "shell.execute_reply": "2023-12-14T21:11:41.616046Z"
    },
    "papermill": {
     "duration": 0.046052,
     "end_time": "2023-12-14T21:11:41.620259",
     "exception": false,
     "start_time": "2023-12-14T21:11:41.574207",
     "status": "completed"
    },
    "tags": []
   },
   "outputs": [
    {
     "name": "stdout",
     "output_type": "stream",
     "text": [
      "Gaussian Naive Bayes classification report (with random split):\n",
      "\n",
      "              precision    recall  f1-score   support\n",
      "\n",
      "           0       0.96      1.00      0.98        71\n",
      "           1       1.00      0.93      0.96        43\n",
      "\n",
      "    accuracy                           0.97       114\n",
      "   macro avg       0.98      0.97      0.97       114\n",
      "weighted avg       0.97      0.97      0.97       114\n",
      "\n",
      "Score: 0.974, Error: 0.026, Time: 0.005s\n"
     ]
    }
   ],
   "source": [
    "#NAIVE BAYES WITH RANDOM SPLIT\n",
    "from sklearn.naive_bayes import GaussianNB\n",
    "from sklearn.model_selection import train_test_split\n",
    "from sklearn.metrics import classification_report\n",
    "\n",
    "\n",
    "start = time.time()\n",
    "gnb = GaussianNB()\n",
    "gnb.fit(X_train, y_train)\n",
    "y_pred = gnb.predict(X_test)\n",
    "end = time.time()\n",
    "gnb_error = 1 - gnb.score(X_test, y_test)\n",
    "gnb_time = end - start\n",
    "gnb_score = gnb.score(X_test, y_test)\n",
    "print(\"Gaussian Naive Bayes classification report (with random split):\\n\")\n",
    "print(classification_report(y_test, y_pred))\n",
    "print(f\"Score: {gnb_score:.3f}, Error: {gnb_error:.3f}, Time: {gnb_time:.3f}s\")\n",
    "\n"
   ]
  },
  {
   "cell_type": "code",
   "execution_count": 13,
   "id": "115c7f95",
   "metadata": {
    "execution": {
     "iopub.execute_input": "2023-12-14T21:11:41.646650Z",
     "iopub.status.busy": "2023-12-14T21:11:41.646224Z",
     "iopub.status.idle": "2023-12-14T21:11:41.811807Z",
     "shell.execute_reply": "2023-12-14T21:11:41.810171Z"
    },
    "papermill": {
     "duration": 0.182194,
     "end_time": "2023-12-14T21:11:41.814860",
     "exception": false,
     "start_time": "2023-12-14T21:11:41.632666",
     "status": "completed"
    },
    "tags": []
   },
   "outputs": [
    {
     "name": "stdout",
     "output_type": "stream",
     "text": [
      "Decision Tree classification report (with cross-validation):\n",
      "\n",
      "              precision    recall  f1-score   support\n",
      "\n",
      "           0       0.94      0.96      0.95        71\n",
      "           1       0.93      0.91      0.92        43\n",
      "\n",
      "    accuracy                           0.94       114\n",
      "   macro avg       0.94      0.93      0.93       114\n",
      "weighted avg       0.94      0.94      0.94       114\n",
      "\n",
      "Score: 0.912, Error: 0.061, Time: 0.147s\n"
     ]
    }
   ],
   "source": [
    "#DECISON TREE WITH CROSS VALIDATION\n",
    "from sklearn.tree import DecisionTreeClassifier\n",
    "from sklearn.model_selection import cross_val_score\n",
    "\n",
    "\n",
    "start = time.time()\n",
    "dtc = DecisionTreeClassifier()\n",
    "dtc_scores = cross_val_score(dtc, x, y, cv=10)\n",
    "dtc.fit(X_train, y_train)\n",
    "y_pred = dtc.predict(X_test)\n",
    "end = time.time()\n",
    "dtc_error = 1 - dtc.score(X_test, y_test)\n",
    "dtc_time = end - start\n",
    "dtc_score = dtc.score(X_test, y_test)\n",
    "print(\"Decision Tree classification report (with cross-validation):\\n\")\n",
    "print(classification_report(y_test, y_pred))\n",
    "print(f\"Score: {np.mean(dtc_scores):.3f}, Error: {dtc_error:.3f}, Time: {dtc_time:.3f}s\")\n"
   ]
  },
  {
   "cell_type": "code",
   "execution_count": 14,
   "id": "c12ae52d",
   "metadata": {
    "execution": {
     "iopub.execute_input": "2023-12-14T21:11:41.843256Z",
     "iopub.status.busy": "2023-12-14T21:11:41.841815Z",
     "iopub.status.idle": "2023-12-14T21:11:41.919645Z",
     "shell.execute_reply": "2023-12-14T21:11:41.918676Z"
    },
    "papermill": {
     "duration": 0.094604,
     "end_time": "2023-12-14T21:11:41.922288",
     "exception": false,
     "start_time": "2023-12-14T21:11:41.827684",
     "status": "completed"
    },
    "tags": []
   },
   "outputs": [
    {
     "name": "stdout",
     "output_type": "stream",
     "text": [
      "Gaussian Naive Bayes classification report (with cross-validation):\n",
      "\n",
      "              precision    recall  f1-score   support\n",
      "\n",
      "           0       0.96      1.00      0.98        71\n",
      "           1       1.00      0.93      0.96        43\n",
      "\n",
      "    accuracy                           0.97       114\n",
      "   macro avg       0.98      0.97      0.97       114\n",
      "weighted avg       0.97      0.97      0.97       114\n",
      "\n",
      "Score: 0.937, Error: 0.026, Time: 0.057s\n"
     ]
    }
   ],
   "source": [
    "#NAIVE BAYES WITH CROSS VALIDATION\n",
    "from sklearn.naive_bayes import GaussianNB\n",
    "from sklearn.model_selection import cross_val_score\n",
    "\n",
    "\n",
    "start = time.time()\n",
    "gnb = GaussianNB()\n",
    "gnb_scores = cross_val_score(gnb, x, y, cv=10)\n",
    "gnb.fit(X_train, y_train)\n",
    "y_pred = gnb.predict(X_test)\n",
    "end = time.time()\n",
    "gnb_error = 1 - gnb.score(X_test, y_test)\n",
    "gnb_time = end - start\n",
    "gnb_score = gnb.score(X_test, y_test)\n",
    "print(\"Gaussian Naive Bayes classification report (with cross-validation):\\n\")\n",
    "print(classification_report(y_test, y_pred))\n",
    "print(f\"Score: {np.mean(gnb_scores):.3f}, Error: {gnb_error:.3f}, Time: {gnb_time:.3f}s\")\n"
   ]
  },
  {
   "cell_type": "code",
   "execution_count": 15,
   "id": "ea03736e",
   "metadata": {
    "execution": {
     "iopub.execute_input": "2023-12-14T21:11:41.958119Z",
     "iopub.status.busy": "2023-12-14T21:11:41.957558Z",
     "iopub.status.idle": "2023-12-14T21:11:42.199878Z",
     "shell.execute_reply": "2023-12-14T21:11:42.198222Z"
    },
    "papermill": {
     "duration": 0.2671,
     "end_time": "2023-12-14T21:11:42.205012",
     "exception": false,
     "start_time": "2023-12-14T21:11:41.937912",
     "status": "completed"
    },
    "tags": []
   },
   "outputs": [
    {
     "name": "stdout",
     "output_type": "stream",
     "text": [
      "KNN classification report (with cross-validation):\n",
      "\n",
      "              precision    recall  f1-score   support\n",
      "\n",
      "           0       0.93      1.00      0.97        71\n",
      "           1       1.00      0.88      0.94        43\n",
      "\n",
      "    accuracy                           0.96       114\n",
      "   macro avg       0.97      0.94      0.95       114\n",
      "weighted avg       0.96      0.96      0.96       114\n",
      "\n",
      "Score: 0.930, Error: 0.044, Time: 0.191s\n"
     ]
    }
   ],
   "source": [
    "#KNN WITH CROSS VALIDATION\n",
    "from sklearn.neighbors import KNeighborsClassifier\n",
    "from sklearn.model_selection import cross_val_score\n",
    "\n",
    "start = time.time()\n",
    "knn = KNeighborsClassifier()\n",
    "knn_scores = cross_val_score(knn, x, y, cv=10)\n",
    "knn.fit(X_train, y_train)\n",
    "y_pred = knn.predict(X_test)\n",
    "end = time.time()\n",
    "knn_error = 1 - knn.score(X_test, y_test)\n",
    "knn_time = end - start\n",
    "knn_score = knn.score(X_test, y_test)\n",
    "print(\"KNN classification report (with cross-validation):\\n\")\n",
    "print(classification_report(y_test, y_pred))\n",
    "print(f\"Score: {np.mean(knn_scores):.3f}, Error: {knn_error:.3f}, Time: {knn_time:.3f}s\")"
   ]
  },
  {
   "cell_type": "code",
   "execution_count": 16,
   "id": "89c402c6",
   "metadata": {
    "execution": {
     "iopub.execute_input": "2023-12-14T21:11:42.298609Z",
     "iopub.status.busy": "2023-12-14T21:11:42.298202Z",
     "iopub.status.idle": "2023-12-14T21:11:43.536835Z",
     "shell.execute_reply": "2023-12-14T21:11:43.535846Z"
    },
    "papermill": {
     "duration": 1.287167,
     "end_time": "2023-12-14T21:11:43.539838",
     "exception": false,
     "start_time": "2023-12-14T21:11:42.252671",
     "status": "completed"
    },
    "tags": []
   },
   "outputs": [
    {
     "name": "stdout",
     "output_type": "stream",
     "text": [
      "Confusion Matrix:\n",
      "[[69  2]\n",
      " [ 3 40]]\n",
      "Accuracy: 0.96\n"
     ]
    }
   ],
   "source": [
    "import xgboost as xgb\n",
    "from sklearn.metrics import confusion_matrix, accuracy_score\n",
    "from sklearn.model_selection import train_test_split\n",
    "\n",
    "\n",
    "# Create an XGBoost model\n",
    "model = xgb.XGBClassifier()\n",
    "\n",
    "# Train the model\n",
    "model.fit(X_train, y_train)\n",
    "\n",
    "# Make predictions on the test set\n",
    "y_pred = model.predict(X_test)\n",
    "\n",
    "# Print the confusion matrix\n",
    "conf_matrix = confusion_matrix(y_test, y_pred)\n",
    "print(\"Confusion Matrix:\")\n",
    "print(conf_matrix)\n",
    "\n",
    "# Print accuracy\n",
    "accuracy = accuracy_score(y_test, y_pred)\n",
    "print(f\"Accuracy: {accuracy:.2f}\")\n"
   ]
  },
  {
   "cell_type": "code",
   "execution_count": 17,
   "id": "4e24bd64",
   "metadata": {
    "execution": {
     "iopub.execute_input": "2023-12-14T21:11:43.567264Z",
     "iopub.status.busy": "2023-12-14T21:11:43.566845Z",
     "iopub.status.idle": "2023-12-14T21:11:43.589197Z",
     "shell.execute_reply": "2023-12-14T21:11:43.587781Z"
    },
    "papermill": {
     "duration": 0.039024,
     "end_time": "2023-12-14T21:11:43.591847",
     "exception": false,
     "start_time": "2023-12-14T21:11:43.552823",
     "status": "completed"
    },
    "tags": []
   },
   "outputs": [
    {
     "name": "stdout",
     "output_type": "stream",
     "text": [
      "Confusion Matrix:\n",
      "[[71  0]\n",
      " [ 2 41]]\n",
      "Accuracy: 0.98\n"
     ]
    }
   ],
   "source": [
    "from sklearn.svm import SVC\n",
    "\n",
    "scaler = StandardScaler()\n",
    "X_train_scaled = scaler.fit_transform(X_train)\n",
    "X_test_scaled = scaler.transform(X_test)\n",
    "\n",
    "# Create an SVM model\n",
    "model = SVC()\n",
    "\n",
    "# Train the model\n",
    "model.fit(X_train_scaled, y_train)\n",
    "\n",
    "# Make predictions on the test set\n",
    "y_pred = model.predict(X_test_scaled)\n",
    "\n",
    "# Print the confusion matrix\n",
    "conf_matrix = confusion_matrix(y_test, y_pred)\n",
    "print(\"Confusion Matrix:\")\n",
    "print(conf_matrix)\n",
    "\n",
    "# Print accuracy\n",
    "accuracy = accuracy_score(y_test, y_pred)\n",
    "print(f\"Accuracy: {accuracy:.2f}\")"
   ]
  },
  {
   "cell_type": "code",
   "execution_count": null,
   "id": "549345ee",
   "metadata": {
    "papermill": {
     "duration": 0.012152,
     "end_time": "2023-12-14T21:11:43.616445",
     "exception": false,
     "start_time": "2023-12-14T21:11:43.604293",
     "status": "completed"
    },
    "tags": []
   },
   "outputs": [],
   "source": []
  }
 ],
 "metadata": {
  "kaggle": {
   "accelerator": "none",
   "dataSources": [
    {
     "datasetId": 180,
     "sourceId": 408,
     "sourceType": "datasetVersion"
    }
   ],
   "dockerImageVersionId": 30445,
   "isGpuEnabled": false,
   "isInternetEnabled": true,
   "language": "python",
   "sourceType": "notebook"
  },
  "kernelspec": {
   "display_name": "Python 3",
   "language": "python",
   "name": "python3"
  },
  "language_info": {
   "codemirror_mode": {
    "name": "ipython",
    "version": 3
   },
   "file_extension": ".py",
   "mimetype": "text/x-python",
   "name": "python",
   "nbconvert_exporter": "python",
   "pygments_lexer": "ipython3",
   "version": "3.7.12"
  },
  "papermill": {
   "default_parameters": {},
   "duration": 17.642023,
   "end_time": "2023-12-14T21:11:44.350919",
   "environment_variables": {},
   "exception": null,
   "input_path": "__notebook__.ipynb",
   "output_path": "__notebook__.ipynb",
   "parameters": {},
   "start_time": "2023-12-14T21:11:26.708896",
   "version": "2.4.0"
  }
 },
 "nbformat": 4,
 "nbformat_minor": 5
}
