{
 "cells": [
  {
   "cell_type": "markdown",
   "id": "134f2b90",
   "metadata": {
    "papermill": {
     "duration": 0.006309,
     "end_time": "2023-06-25T20:41:04.059520",
     "exception": false,
     "start_time": "2023-06-25T20:41:04.053211",
     "status": "completed"
    },
    "tags": []
   },
   "source": [
    "    This notebook performs several steps for predicting forest fire occurrences based on various variables. It starts by importing necessary libraries such as NumPy, Pandas, Matplotlib, Seaborn.  The code then reads three CSV files containing the forest fire dataset and combines them into a single DataFrame. It performs data preprocessing steps by handling missing values, renaming columns, and dropping duplicates. The code further transforms the target variable by converting it into numeric values. The dataset is split into training and testing sets. A XGBClassifier is trained on the training data. Finally, the code evaluates the trained model by predicting classes for the test data, calculating the accuracy score, and generating a classification report and a heatmap of the confusion matrix. These steps provide insights into the forest fire prediction based on the given variables, allowing for analysis and assessment of the model's performance."
   ]
  },
  {
   "cell_type": "markdown",
   "id": "b2fa01d0",
   "metadata": {
    "papermill": {
     "duration": 0.005587,
     "end_time": "2023-06-25T20:41:04.071038",
     "exception": false,
     "start_time": "2023-06-25T20:41:04.065451",
     "status": "completed"
    },
    "tags": []
   },
   "source": [
    "# Notebook's content\n",
    "1. [Loading Data](#0)\n",
    "2. [Pre-processing](#1)\n",
    "3. [XGBClassifier](#2)\n",
    "3. [Model Evaluation](#3)"
   ]
  },
  {
   "cell_type": "code",
   "execution_count": 1,
   "id": "55a57890",
   "metadata": {
    "_cell_guid": "b1076dfc-b9ad-4769-8c92-a6c4dae69d19",
    "_uuid": "8f2839f25d086af736a60e9eeb907d3b93b6e0e5",
    "execution": {
     "iopub.execute_input": "2023-06-25T20:41:04.084818Z",
     "iopub.status.busy": "2023-06-25T20:41:04.083837Z",
     "iopub.status.idle": "2023-06-25T20:41:05.363725Z",
     "shell.execute_reply": "2023-06-25T20:41:05.362845Z"
    },
    "papermill": {
     "duration": 1.289234,
     "end_time": "2023-06-25T20:41:05.366103",
     "exception": false,
     "start_time": "2023-06-25T20:41:04.076869",
     "status": "completed"
    },
    "tags": []
   },
   "outputs": [
    {
     "data": {
      "text/plain": [
       "0"
      ]
     },
     "execution_count": 1,
     "metadata": {},
     "output_type": "execute_result"
    }
   ],
   "source": [
    "import numpy as np\n",
    "import pandas as pd\n",
    "import matplotlib as mpl\n",
    "import matplotlib.pyplot as plt\n",
    "import seaborn as sns\n",
    "import re\n",
    "import time\n",
    "import random\n",
    "import tempfile\n",
    "import gc\n",
    "gc.collect()"
   ]
  },
  {
   "cell_type": "markdown",
   "id": "920f2958",
   "metadata": {
    "papermill": {
     "duration": 0.005893,
     "end_time": "2023-06-25T20:41:05.378168",
     "exception": false,
     "start_time": "2023-06-25T20:41:05.372275",
     "status": "completed"
    },
    "tags": []
   },
   "source": [
    "<a id=\"0\"></a> <br>\n",
    "# Loading Data"
   ]
  },
  {
   "cell_type": "code",
   "execution_count": 2,
   "id": "ad33dfbb",
   "metadata": {
    "execution": {
     "iopub.execute_input": "2023-06-25T20:41:05.392814Z",
     "iopub.status.busy": "2023-06-25T20:41:05.391135Z",
     "iopub.status.idle": "2023-06-25T20:41:05.430272Z",
     "shell.execute_reply": "2023-06-25T20:41:05.429377Z"
    },
    "papermill": {
     "duration": 0.048384,
     "end_time": "2023-06-25T20:41:05.432479",
     "exception": false,
     "start_time": "2023-06-25T20:41:05.384095",
     "status": "completed"
    },
    "tags": []
   },
   "outputs": [],
   "source": [
    "df1 = pd.read_csv('/kaggle/input/algerian-forest-fires-dataset-updatecsv/Algerian_forest_fires_dataset_UPDATE.csv')\n",
    "df2 = pd.read_csv('/kaggle/input/algerian-forest-fires-dataset-updatecsv/Bejaia Region ForestFire Dataset.csv')\n",
    "df3 = pd.read_csv('/kaggle/input/algerian-forest-fires-dataset-updatecsv/Sidi-Bel Abbes Region ForestFire Dataset.csv')\n",
    "df=pd.concat([df1, df2, df3])\n",
    "df.rename(columns={'Classes  ': 'Classes'}, inplace=True)"
   ]
  },
  {
   "cell_type": "code",
   "execution_count": 3,
   "id": "a2266653",
   "metadata": {
    "execution": {
     "iopub.execute_input": "2023-06-25T20:41:05.445773Z",
     "iopub.status.busy": "2023-06-25T20:41:05.445485Z",
     "iopub.status.idle": "2023-06-25T20:41:05.472462Z",
     "shell.execute_reply": "2023-06-25T20:41:05.471399Z"
    },
    "papermill": {
     "duration": 0.036314,
     "end_time": "2023-06-25T20:41:05.474823",
     "exception": false,
     "start_time": "2023-06-25T20:41:05.438509",
     "status": "completed"
    },
    "tags": []
   },
   "outputs": [
    {
     "data": {
      "text/html": [
       "<div>\n",
       "<style scoped>\n",
       "    .dataframe tbody tr th:only-of-type {\n",
       "        vertical-align: middle;\n",
       "    }\n",
       "\n",
       "    .dataframe tbody tr th {\n",
       "        vertical-align: top;\n",
       "    }\n",
       "\n",
       "    .dataframe thead th {\n",
       "        text-align: right;\n",
       "    }\n",
       "</style>\n",
       "<table border=\"1\" class=\"dataframe\">\n",
       "  <thead>\n",
       "    <tr style=\"text-align: right;\">\n",
       "      <th></th>\n",
       "      <th>day</th>\n",
       "      <th>month</th>\n",
       "      <th>year</th>\n",
       "      <th>Temperature</th>\n",
       "      <th>RH</th>\n",
       "      <th>Ws</th>\n",
       "      <th>Rain</th>\n",
       "      <th>FFMC</th>\n",
       "      <th>DMC</th>\n",
       "      <th>DC</th>\n",
       "      <th>ISI</th>\n",
       "      <th>BUI</th>\n",
       "      <th>FWI</th>\n",
       "      <th>Classes</th>\n",
       "    </tr>\n",
       "  </thead>\n",
       "  <tbody>\n",
       "    <tr>\n",
       "      <th>0</th>\n",
       "      <td>1</td>\n",
       "      <td>6</td>\n",
       "      <td>2012</td>\n",
       "      <td>32</td>\n",
       "      <td>71</td>\n",
       "      <td>12</td>\n",
       "      <td>0.7</td>\n",
       "      <td>57.1</td>\n",
       "      <td>2.5</td>\n",
       "      <td>8.2</td>\n",
       "      <td>0.6</td>\n",
       "      <td>2.8</td>\n",
       "      <td>0.2</td>\n",
       "      <td>not fire</td>\n",
       "    </tr>\n",
       "    <tr>\n",
       "      <th>1</th>\n",
       "      <td>2</td>\n",
       "      <td>6</td>\n",
       "      <td>2012</td>\n",
       "      <td>30</td>\n",
       "      <td>73</td>\n",
       "      <td>13</td>\n",
       "      <td>4.0</td>\n",
       "      <td>55.7</td>\n",
       "      <td>2.7</td>\n",
       "      <td>7.8</td>\n",
       "      <td>0.6</td>\n",
       "      <td>2.9</td>\n",
       "      <td>0.2</td>\n",
       "      <td>not fire</td>\n",
       "    </tr>\n",
       "    <tr>\n",
       "      <th>2</th>\n",
       "      <td>3</td>\n",
       "      <td>6</td>\n",
       "      <td>2012</td>\n",
       "      <td>29</td>\n",
       "      <td>80</td>\n",
       "      <td>14</td>\n",
       "      <td>2.0</td>\n",
       "      <td>48.7</td>\n",
       "      <td>2.2</td>\n",
       "      <td>7.6</td>\n",
       "      <td>0.3</td>\n",
       "      <td>2.6</td>\n",
       "      <td>0.1</td>\n",
       "      <td>not fire</td>\n",
       "    </tr>\n",
       "    <tr>\n",
       "      <th>3</th>\n",
       "      <td>4</td>\n",
       "      <td>6</td>\n",
       "      <td>2012</td>\n",
       "      <td>30</td>\n",
       "      <td>64</td>\n",
       "      <td>14</td>\n",
       "      <td>0.0</td>\n",
       "      <td>79.4</td>\n",
       "      <td>5.2</td>\n",
       "      <td>15.4</td>\n",
       "      <td>2.2</td>\n",
       "      <td>5.6</td>\n",
       "      <td>1</td>\n",
       "      <td>not fire</td>\n",
       "    </tr>\n",
       "    <tr>\n",
       "      <th>4</th>\n",
       "      <td>5</td>\n",
       "      <td>6</td>\n",
       "      <td>2012</td>\n",
       "      <td>32</td>\n",
       "      <td>60</td>\n",
       "      <td>14</td>\n",
       "      <td>0.2</td>\n",
       "      <td>77.1</td>\n",
       "      <td>6.0</td>\n",
       "      <td>17.6</td>\n",
       "      <td>1.8</td>\n",
       "      <td>6.5</td>\n",
       "      <td>0.9</td>\n",
       "      <td>not fire</td>\n",
       "    </tr>\n",
       "    <tr>\n",
       "      <th>...</th>\n",
       "      <td>...</td>\n",
       "      <td>...</td>\n",
       "      <td>...</td>\n",
       "      <td>...</td>\n",
       "      <td>...</td>\n",
       "      <td>...</td>\n",
       "      <td>...</td>\n",
       "      <td>...</td>\n",
       "      <td>...</td>\n",
       "      <td>...</td>\n",
       "      <td>...</td>\n",
       "      <td>...</td>\n",
       "      <td>...</td>\n",
       "      <td>...</td>\n",
       "    </tr>\n",
       "    <tr>\n",
       "      <th>117</th>\n",
       "      <td>26</td>\n",
       "      <td>9</td>\n",
       "      <td>2012</td>\n",
       "      <td>30</td>\n",
       "      <td>65</td>\n",
       "      <td>14</td>\n",
       "      <td>0.0</td>\n",
       "      <td>85.4</td>\n",
       "      <td>16.0</td>\n",
       "      <td>44.5</td>\n",
       "      <td>4.5</td>\n",
       "      <td>16.9</td>\n",
       "      <td>6.5</td>\n",
       "      <td>fire</td>\n",
       "    </tr>\n",
       "    <tr>\n",
       "      <th>118</th>\n",
       "      <td>27</td>\n",
       "      <td>9</td>\n",
       "      <td>2012</td>\n",
       "      <td>28</td>\n",
       "      <td>87</td>\n",
       "      <td>15</td>\n",
       "      <td>4.4</td>\n",
       "      <td>41.1</td>\n",
       "      <td>6.5</td>\n",
       "      <td>8</td>\n",
       "      <td>0.1</td>\n",
       "      <td>6.2</td>\n",
       "      <td>0</td>\n",
       "      <td>not fire</td>\n",
       "    </tr>\n",
       "    <tr>\n",
       "      <th>119</th>\n",
       "      <td>28</td>\n",
       "      <td>9</td>\n",
       "      <td>2012</td>\n",
       "      <td>27</td>\n",
       "      <td>87</td>\n",
       "      <td>29</td>\n",
       "      <td>0.5</td>\n",
       "      <td>45.9</td>\n",
       "      <td>3.5</td>\n",
       "      <td>7.9</td>\n",
       "      <td>0.4</td>\n",
       "      <td>3.4</td>\n",
       "      <td>0.2</td>\n",
       "      <td>not fire</td>\n",
       "    </tr>\n",
       "    <tr>\n",
       "      <th>120</th>\n",
       "      <td>29</td>\n",
       "      <td>9</td>\n",
       "      <td>2012</td>\n",
       "      <td>24</td>\n",
       "      <td>54</td>\n",
       "      <td>18</td>\n",
       "      <td>0.1</td>\n",
       "      <td>79.7</td>\n",
       "      <td>4.3</td>\n",
       "      <td>15.2</td>\n",
       "      <td>1.7</td>\n",
       "      <td>5.1</td>\n",
       "      <td>0.7</td>\n",
       "      <td>not fire</td>\n",
       "    </tr>\n",
       "    <tr>\n",
       "      <th>121</th>\n",
       "      <td>30</td>\n",
       "      <td>9</td>\n",
       "      <td>2012</td>\n",
       "      <td>24</td>\n",
       "      <td>64</td>\n",
       "      <td>15</td>\n",
       "      <td>0.2</td>\n",
       "      <td>67.3</td>\n",
       "      <td>3.8</td>\n",
       "      <td>16.5</td>\n",
       "      <td>1.2</td>\n",
       "      <td>4.8</td>\n",
       "      <td>0.5</td>\n",
       "      <td>not fire</td>\n",
       "    </tr>\n",
       "  </tbody>\n",
       "</table>\n",
       "<p>366 rows × 14 columns</p>\n",
       "</div>"
      ],
      "text/plain": [
       "     day  month  year  Temperature   RH   Ws  Rain   FFMC   DMC    DC  ISI  \\\n",
       "0      1      6  2012           32   71   12    0.7  57.1   2.5   8.2  0.6   \n",
       "1      2      6  2012           30   73   13    4.0  55.7   2.7   7.8  0.6   \n",
       "2      3      6  2012           29   80   14    2.0  48.7   2.2   7.6  0.3   \n",
       "3      4      6  2012           30   64   14    0.0  79.4   5.2  15.4  2.2   \n",
       "4      5      6  2012           32   60   14    0.2  77.1   6.0  17.6  1.8   \n",
       "..   ...    ...   ...          ...  ...  ...    ...   ...   ...   ...  ...   \n",
       "117   26      9  2012           30   65   14    0.0  85.4  16.0  44.5  4.5   \n",
       "118   27      9  2012           28   87   15    4.4  41.1   6.5     8  0.1   \n",
       "119   28      9  2012           27   87   29    0.5  45.9   3.5   7.9  0.4   \n",
       "120   29      9  2012           24   54   18    0.1  79.7   4.3  15.2  1.7   \n",
       "121   30      9  2012           24   64   15    0.2  67.3   3.8  16.5  1.2   \n",
       "\n",
       "      BUI  FWI       Classes  \n",
       "0     2.8  0.2   not fire     \n",
       "1     2.9  0.2   not fire     \n",
       "2     2.6  0.1   not fire     \n",
       "3     5.6    1   not fire     \n",
       "4     6.5  0.9   not fire     \n",
       "..    ...  ...           ...  \n",
       "117  16.9  6.5       fire     \n",
       "118   6.2    0   not fire     \n",
       "119   3.4  0.2   not fire     \n",
       "120   5.1  0.7   not fire     \n",
       "121   4.8  0.5  not fire      \n",
       "\n",
       "[366 rows x 14 columns]"
      ]
     },
     "execution_count": 3,
     "metadata": {},
     "output_type": "execute_result"
    }
   ],
   "source": [
    "df"
   ]
  },
  {
   "cell_type": "markdown",
   "id": "3e9cba98",
   "metadata": {
    "papermill": {
     "duration": 0.00608,
     "end_time": "2023-06-25T20:41:05.487620",
     "exception": false,
     "start_time": "2023-06-25T20:41:05.481540",
     "status": "completed"
    },
    "tags": []
   },
   "source": [
    "<a id=\"1\"></a> <br>\n",
    "# Pre-processing\n"
   ]
  },
  {
   "cell_type": "code",
   "execution_count": 4,
   "id": "b16c25f0",
   "metadata": {
    "execution": {
     "iopub.execute_input": "2023-06-25T20:41:05.501322Z",
     "iopub.status.busy": "2023-06-25T20:41:05.501020Z",
     "iopub.status.idle": "2023-06-25T20:41:05.531700Z",
     "shell.execute_reply": "2023-06-25T20:41:05.530669Z"
    },
    "papermill": {
     "duration": 0.0406,
     "end_time": "2023-06-25T20:41:05.534434",
     "exception": false,
     "start_time": "2023-06-25T20:41:05.493834",
     "status": "completed"
    },
    "tags": []
   },
   "outputs": [
    {
     "name": "stderr",
     "output_type": "stream",
     "text": [
      "/tmp/ipykernel_23/2694430884.py:1: FutureWarning: The default value of numeric_only in DataFrame.median is deprecated. In a future version, it will default to False. In addition, specifying 'numeric_only=None' is deprecated. Select only valid columns or specify the value of numeric_only to silence this warning.\n",
      "  df = df.fillna(df.median())\n"
     ]
    }
   ],
   "source": [
    "df = df.fillna(df.median())\n",
    "df = df.fillna(df.mode().iloc[0])\n",
    "df = df.drop_duplicates()\n"
   ]
  },
  {
   "cell_type": "code",
   "execution_count": 5,
   "id": "535148e6",
   "metadata": {
    "execution": {
     "iopub.execute_input": "2023-06-25T20:41:05.548933Z",
     "iopub.status.busy": "2023-06-25T20:41:05.548635Z",
     "iopub.status.idle": "2023-06-25T20:41:05.555568Z",
     "shell.execute_reply": "2023-06-25T20:41:05.554607Z"
    },
    "papermill": {
     "duration": 0.016156,
     "end_time": "2023-06-25T20:41:05.557475",
     "exception": false,
     "start_time": "2023-06-25T20:41:05.541319",
     "status": "completed"
    },
    "tags": []
   },
   "outputs": [],
   "source": [
    "if df['Classes'].dtype == 'object':\n",
    "    df['Classes'] = df['Classes'].str.strip().str.lower().map({'fire': 1, 'not fire': 0})\n"
   ]
  },
  {
   "cell_type": "code",
   "execution_count": 6,
   "id": "97d7ae55",
   "metadata": {
    "execution": {
     "iopub.execute_input": "2023-06-25T20:41:05.571500Z",
     "iopub.status.busy": "2023-06-25T20:41:05.571223Z",
     "iopub.status.idle": "2023-06-25T20:41:05.594394Z",
     "shell.execute_reply": "2023-06-25T20:41:05.593396Z"
    },
    "papermill": {
     "duration": 0.03283,
     "end_time": "2023-06-25T20:41:05.596785",
     "exception": false,
     "start_time": "2023-06-25T20:41:05.563955",
     "status": "completed"
    },
    "tags": []
   },
   "outputs": [
    {
     "data": {
      "text/html": [
       "<div>\n",
       "<style scoped>\n",
       "    .dataframe tbody tr th:only-of-type {\n",
       "        vertical-align: middle;\n",
       "    }\n",
       "\n",
       "    .dataframe tbody tr th {\n",
       "        vertical-align: top;\n",
       "    }\n",
       "\n",
       "    .dataframe thead th {\n",
       "        text-align: right;\n",
       "    }\n",
       "</style>\n",
       "<table border=\"1\" class=\"dataframe\">\n",
       "  <thead>\n",
       "    <tr style=\"text-align: right;\">\n",
       "      <th></th>\n",
       "      <th>day</th>\n",
       "      <th>month</th>\n",
       "      <th>year</th>\n",
       "      <th>Temperature</th>\n",
       "      <th>RH</th>\n",
       "      <th>Ws</th>\n",
       "      <th>Rain</th>\n",
       "      <th>FFMC</th>\n",
       "      <th>DMC</th>\n",
       "      <th>DC</th>\n",
       "      <th>ISI</th>\n",
       "      <th>BUI</th>\n",
       "      <th>FWI</th>\n",
       "      <th>Classes</th>\n",
       "    </tr>\n",
       "  </thead>\n",
       "  <tbody>\n",
       "    <tr>\n",
       "      <th>0</th>\n",
       "      <td>1</td>\n",
       "      <td>6</td>\n",
       "      <td>2012</td>\n",
       "      <td>32</td>\n",
       "      <td>71</td>\n",
       "      <td>12</td>\n",
       "      <td>0.7</td>\n",
       "      <td>57.1</td>\n",
       "      <td>2.5</td>\n",
       "      <td>8.2</td>\n",
       "      <td>0.6</td>\n",
       "      <td>2.8</td>\n",
       "      <td>0.2</td>\n",
       "      <td>0</td>\n",
       "    </tr>\n",
       "    <tr>\n",
       "      <th>1</th>\n",
       "      <td>2</td>\n",
       "      <td>6</td>\n",
       "      <td>2012</td>\n",
       "      <td>30</td>\n",
       "      <td>73</td>\n",
       "      <td>13</td>\n",
       "      <td>4.0</td>\n",
       "      <td>55.7</td>\n",
       "      <td>2.7</td>\n",
       "      <td>7.8</td>\n",
       "      <td>0.6</td>\n",
       "      <td>2.9</td>\n",
       "      <td>0.2</td>\n",
       "      <td>0</td>\n",
       "    </tr>\n",
       "    <tr>\n",
       "      <th>2</th>\n",
       "      <td>3</td>\n",
       "      <td>6</td>\n",
       "      <td>2012</td>\n",
       "      <td>29</td>\n",
       "      <td>80</td>\n",
       "      <td>14</td>\n",
       "      <td>2.0</td>\n",
       "      <td>48.7</td>\n",
       "      <td>2.2</td>\n",
       "      <td>7.6</td>\n",
       "      <td>0.3</td>\n",
       "      <td>2.6</td>\n",
       "      <td>0.1</td>\n",
       "      <td>0</td>\n",
       "    </tr>\n",
       "    <tr>\n",
       "      <th>3</th>\n",
       "      <td>4</td>\n",
       "      <td>6</td>\n",
       "      <td>2012</td>\n",
       "      <td>30</td>\n",
       "      <td>64</td>\n",
       "      <td>14</td>\n",
       "      <td>0.0</td>\n",
       "      <td>79.4</td>\n",
       "      <td>5.2</td>\n",
       "      <td>15.4</td>\n",
       "      <td>2.2</td>\n",
       "      <td>5.6</td>\n",
       "      <td>1</td>\n",
       "      <td>0</td>\n",
       "    </tr>\n",
       "    <tr>\n",
       "      <th>4</th>\n",
       "      <td>5</td>\n",
       "      <td>6</td>\n",
       "      <td>2012</td>\n",
       "      <td>32</td>\n",
       "      <td>60</td>\n",
       "      <td>14</td>\n",
       "      <td>0.2</td>\n",
       "      <td>77.1</td>\n",
       "      <td>6.0</td>\n",
       "      <td>17.6</td>\n",
       "      <td>1.8</td>\n",
       "      <td>6.5</td>\n",
       "      <td>0.9</td>\n",
       "      <td>0</td>\n",
       "    </tr>\n",
       "    <tr>\n",
       "      <th>...</th>\n",
       "      <td>...</td>\n",
       "      <td>...</td>\n",
       "      <td>...</td>\n",
       "      <td>...</td>\n",
       "      <td>...</td>\n",
       "      <td>...</td>\n",
       "      <td>...</td>\n",
       "      <td>...</td>\n",
       "      <td>...</td>\n",
       "      <td>...</td>\n",
       "      <td>...</td>\n",
       "      <td>...</td>\n",
       "      <td>...</td>\n",
       "      <td>...</td>\n",
       "    </tr>\n",
       "    <tr>\n",
       "      <th>117</th>\n",
       "      <td>26</td>\n",
       "      <td>9</td>\n",
       "      <td>2012</td>\n",
       "      <td>31</td>\n",
       "      <td>54</td>\n",
       "      <td>11</td>\n",
       "      <td>0.0</td>\n",
       "      <td>82.0</td>\n",
       "      <td>6.0</td>\n",
       "      <td>16.3</td>\n",
       "      <td>2.5</td>\n",
       "      <td>6.2</td>\n",
       "      <td>1.7</td>\n",
       "      <td>0</td>\n",
       "    </tr>\n",
       "    <tr>\n",
       "      <th>118</th>\n",
       "      <td>27</td>\n",
       "      <td>9</td>\n",
       "      <td>2012</td>\n",
       "      <td>31</td>\n",
       "      <td>66</td>\n",
       "      <td>11</td>\n",
       "      <td>0.0</td>\n",
       "      <td>85.7</td>\n",
       "      <td>8.3</td>\n",
       "      <td>24.9</td>\n",
       "      <td>4.0</td>\n",
       "      <td>9.0</td>\n",
       "      <td>4.1</td>\n",
       "      <td>1</td>\n",
       "    </tr>\n",
       "    <tr>\n",
       "      <th>119</th>\n",
       "      <td>28</td>\n",
       "      <td>9</td>\n",
       "      <td>2012</td>\n",
       "      <td>32</td>\n",
       "      <td>47</td>\n",
       "      <td>14</td>\n",
       "      <td>0.7</td>\n",
       "      <td>77.5</td>\n",
       "      <td>7.1</td>\n",
       "      <td>8.8</td>\n",
       "      <td>1.8</td>\n",
       "      <td>6.8</td>\n",
       "      <td>0.9</td>\n",
       "      <td>0</td>\n",
       "    </tr>\n",
       "    <tr>\n",
       "      <th>120</th>\n",
       "      <td>29</td>\n",
       "      <td>9</td>\n",
       "      <td>2012</td>\n",
       "      <td>26</td>\n",
       "      <td>80</td>\n",
       "      <td>16</td>\n",
       "      <td>1.8</td>\n",
       "      <td>47.4</td>\n",
       "      <td>2.9</td>\n",
       "      <td>7.7</td>\n",
       "      <td>0.3</td>\n",
       "      <td>3.0</td>\n",
       "      <td>0.1</td>\n",
       "      <td>0</td>\n",
       "    </tr>\n",
       "    <tr>\n",
       "      <th>121</th>\n",
       "      <td>30</td>\n",
       "      <td>9</td>\n",
       "      <td>2012</td>\n",
       "      <td>25</td>\n",
       "      <td>78</td>\n",
       "      <td>14</td>\n",
       "      <td>1.4</td>\n",
       "      <td>45.0</td>\n",
       "      <td>1.9</td>\n",
       "      <td>7.5</td>\n",
       "      <td>0.2</td>\n",
       "      <td>2.4</td>\n",
       "      <td>0.1</td>\n",
       "      <td>0</td>\n",
       "    </tr>\n",
       "  </tbody>\n",
       "</table>\n",
       "<p>244 rows × 14 columns</p>\n",
       "</div>"
      ],
      "text/plain": [
       "     day  month  year  Temperature   RH   Ws  Rain   FFMC  DMC    DC  ISI  \\\n",
       "0      1      6  2012           32   71   12    0.7  57.1  2.5   8.2  0.6   \n",
       "1      2      6  2012           30   73   13    4.0  55.7  2.7   7.8  0.6   \n",
       "2      3      6  2012           29   80   14    2.0  48.7  2.2   7.6  0.3   \n",
       "3      4      6  2012           30   64   14    0.0  79.4  5.2  15.4  2.2   \n",
       "4      5      6  2012           32   60   14    0.2  77.1  6.0  17.6  1.8   \n",
       "..   ...    ...   ...          ...  ...  ...    ...   ...  ...   ...  ...   \n",
       "117   26      9  2012           31   54   11    0.0  82.0  6.0  16.3  2.5   \n",
       "118   27      9  2012           31   66   11    0.0  85.7  8.3  24.9  4.0   \n",
       "119   28      9  2012           32   47   14    0.7  77.5  7.1   8.8  1.8   \n",
       "120   29      9  2012           26   80   16    1.8  47.4  2.9   7.7  0.3   \n",
       "121   30      9  2012           25   78   14    1.4  45.0  1.9   7.5  0.2   \n",
       "\n",
       "     BUI  FWI  Classes  \n",
       "0    2.8  0.2        0  \n",
       "1    2.9  0.2        0  \n",
       "2    2.6  0.1        0  \n",
       "3    5.6    1        0  \n",
       "4    6.5  0.9        0  \n",
       "..   ...  ...      ...  \n",
       "117  6.2  1.7        0  \n",
       "118  9.0  4.1        1  \n",
       "119  6.8  0.9        0  \n",
       "120  3.0  0.1        0  \n",
       "121  2.4  0.1        0  \n",
       "\n",
       "[244 rows x 14 columns]"
      ]
     },
     "execution_count": 6,
     "metadata": {},
     "output_type": "execute_result"
    }
   ],
   "source": [
    "df"
   ]
  },
  {
   "cell_type": "code",
   "execution_count": 7,
   "id": "1d464709",
   "metadata": {
    "execution": {
     "iopub.execute_input": "2023-06-25T20:41:05.611753Z",
     "iopub.status.busy": "2023-06-25T20:41:05.611461Z",
     "iopub.status.idle": "2023-06-25T20:41:05.617143Z",
     "shell.execute_reply": "2023-06-25T20:41:05.616280Z"
    },
    "papermill": {
     "duration": 0.015549,
     "end_time": "2023-06-25T20:41:05.619163",
     "exception": false,
     "start_time": "2023-06-25T20:41:05.603614",
     "status": "completed"
    },
    "tags": []
   },
   "outputs": [],
   "source": [
    "df['DC'] = pd.to_numeric(df['DC'], errors='coerce')\n",
    "df['FWI'] = pd.to_numeric(df['FWI'], errors='coerce')"
   ]
  },
  {
   "cell_type": "code",
   "execution_count": 8,
   "id": "9f122ff9",
   "metadata": {
    "execution": {
     "iopub.execute_input": "2023-06-25T20:41:05.633998Z",
     "iopub.status.busy": "2023-06-25T20:41:05.633704Z",
     "iopub.status.idle": "2023-06-25T20:41:05.648611Z",
     "shell.execute_reply": "2023-06-25T20:41:05.647738Z"
    },
    "papermill": {
     "duration": 0.024624,
     "end_time": "2023-06-25T20:41:05.650777",
     "exception": false,
     "start_time": "2023-06-25T20:41:05.626153",
     "status": "completed"
    },
    "tags": []
   },
   "outputs": [
    {
     "name": "stdout",
     "output_type": "stream",
     "text": [
      "FFMC and ISI are highly correlated: 0.7397300183266767\n",
      "FFMC and Classes are highly correlated: 0.7701140591063843\n",
      "DMC and DC are highly correlated: 0.8759246606759631\n",
      "DMC and BUI are highly correlated: 0.9820732709504015\n",
      "DMC and FWI are highly correlated: 0.8758641588191534\n",
      "DC and BUI are highly correlated: 0.9419884631009658\n",
      "DC and FWI are highly correlated: 0.7395205557052653\n",
      "ISI and FWI are highly correlated: 0.9228949343157856\n",
      "ISI and Classes are highly correlated: 0.7355108835495274\n",
      "BUI and FWI are highly correlated: 0.857973095896425\n",
      "FWI and Classes are highly correlated: 0.7192161486674151\n"
     ]
    }
   ],
   "source": [
    "corr_matrix = df.corr()\n",
    "\n",
    "# Find highly correlated features\n",
    "highly_correlated_features = []\n",
    "threshold = 0.7  # Adjust the threshold as desired\n",
    "\n",
    "for i in range(len(corr_matrix.columns)):\n",
    "    for j in range(i+1, len(corr_matrix.columns)):\n",
    "        if abs(corr_matrix.iloc[i, j]) > threshold:\n",
    "            # Append the correlated feature pair\n",
    "            feature_i = corr_matrix.columns[i]\n",
    "            feature_j = corr_matrix.columns[j]\n",
    "            correlation = corr_matrix.iloc[i, j]\n",
    "            highly_correlated_features.append((feature_i, feature_j, correlation))\n",
    "\n",
    "# Print the highly correlated features\n",
    "for feature_i, feature_j, correlation in highly_correlated_features:\n",
    "    print(f\"{feature_i} and {feature_j} are highly correlated: {correlation}\")"
   ]
  },
  {
   "cell_type": "code",
   "execution_count": 9,
   "id": "ec7efa95",
   "metadata": {
    "execution": {
     "iopub.execute_input": "2023-06-25T20:41:05.666988Z",
     "iopub.status.busy": "2023-06-25T20:41:05.666386Z",
     "iopub.status.idle": "2023-06-25T20:41:05.672804Z",
     "shell.execute_reply": "2023-06-25T20:41:05.671952Z"
    },
    "papermill": {
     "duration": 0.016271,
     "end_time": "2023-06-25T20:41:05.674672",
     "exception": false,
     "start_time": "2023-06-25T20:41:05.658401",
     "status": "completed"
    },
    "tags": []
   },
   "outputs": [],
   "source": [
    "#Keeping only the most important features for xgb classifier\n",
    "selected_columns = ['DC','ISI','Classes']  \n",
    "\n",
    "df = df[selected_columns].copy()\n"
   ]
  },
  {
   "cell_type": "code",
   "execution_count": 10,
   "id": "4b28ddac",
   "metadata": {
    "execution": {
     "iopub.execute_input": "2023-06-25T20:41:05.689762Z",
     "iopub.status.busy": "2023-06-25T20:41:05.689495Z",
     "iopub.status.idle": "2023-06-25T20:41:05.694500Z",
     "shell.execute_reply": "2023-06-25T20:41:05.693506Z"
    },
    "papermill": {
     "duration": 0.014932,
     "end_time": "2023-06-25T20:41:05.696766",
     "exception": false,
     "start_time": "2023-06-25T20:41:05.681834",
     "status": "completed"
    },
    "tags": []
   },
   "outputs": [],
   "source": [
    "\n",
    "X = df.drop(['Classes'], axis=1)\n",
    "y = df['Classes']"
   ]
  },
  {
   "cell_type": "code",
   "execution_count": 11,
   "id": "669cc9a6",
   "metadata": {
    "execution": {
     "iopub.execute_input": "2023-06-25T20:41:05.712102Z",
     "iopub.status.busy": "2023-06-25T20:41:05.711319Z",
     "iopub.status.idle": "2023-06-25T20:41:05.913985Z",
     "shell.execute_reply": "2023-06-25T20:41:05.913024Z"
    },
    "papermill": {
     "duration": 0.213185,
     "end_time": "2023-06-25T20:41:05.916758",
     "exception": false,
     "start_time": "2023-06-25T20:41:05.703573",
     "status": "completed"
    },
    "tags": []
   },
   "outputs": [],
   "source": [
    "from sklearn.model_selection import train_test_split\n",
    "\n",
    "\n",
    "# Split the data into train and test sets\n",
    "X_train, X_test, y_train, y_test = train_test_split(X, y, test_size=0.3, random_state=42)"
   ]
  },
  {
   "cell_type": "markdown",
   "id": "4af62a06",
   "metadata": {
    "papermill": {
     "duration": 0.006907,
     "end_time": "2023-06-25T20:41:05.930853",
     "exception": false,
     "start_time": "2023-06-25T20:41:05.923946",
     "status": "completed"
    },
    "tags": []
   },
   "source": [
    "<a id=\"2\"></a> <br>\n",
    "# XGBClassifier\n"
   ]
  },
  {
   "cell_type": "code",
   "execution_count": 12,
   "id": "5cadd9ad",
   "metadata": {
    "execution": {
     "iopub.execute_input": "2023-06-25T20:41:05.946226Z",
     "iopub.status.busy": "2023-06-25T20:41:05.945393Z",
     "iopub.status.idle": "2023-06-25T20:41:06.179705Z",
     "shell.execute_reply": "2023-06-25T20:41:06.178918Z"
    },
    "papermill": {
     "duration": 0.244299,
     "end_time": "2023-06-25T20:41:06.181911",
     "exception": false,
     "start_time": "2023-06-25T20:41:05.937612",
     "status": "completed"
    },
    "tags": []
   },
   "outputs": [
    {
     "data": {
      "text/html": [
       "<style>#sk-container-id-1 {color: black;background-color: white;}#sk-container-id-1 pre{padding: 0;}#sk-container-id-1 div.sk-toggleable {background-color: white;}#sk-container-id-1 label.sk-toggleable__label {cursor: pointer;display: block;width: 100%;margin-bottom: 0;padding: 0.3em;box-sizing: border-box;text-align: center;}#sk-container-id-1 label.sk-toggleable__label-arrow:before {content: \"▸\";float: left;margin-right: 0.25em;color: #696969;}#sk-container-id-1 label.sk-toggleable__label-arrow:hover:before {color: black;}#sk-container-id-1 div.sk-estimator:hover label.sk-toggleable__label-arrow:before {color: black;}#sk-container-id-1 div.sk-toggleable__content {max-height: 0;max-width: 0;overflow: hidden;text-align: left;background-color: #f0f8ff;}#sk-container-id-1 div.sk-toggleable__content pre {margin: 0.2em;color: black;border-radius: 0.25em;background-color: #f0f8ff;}#sk-container-id-1 input.sk-toggleable__control:checked~div.sk-toggleable__content {max-height: 200px;max-width: 100%;overflow: auto;}#sk-container-id-1 input.sk-toggleable__control:checked~label.sk-toggleable__label-arrow:before {content: \"▾\";}#sk-container-id-1 div.sk-estimator input.sk-toggleable__control:checked~label.sk-toggleable__label {background-color: #d4ebff;}#sk-container-id-1 div.sk-label input.sk-toggleable__control:checked~label.sk-toggleable__label {background-color: #d4ebff;}#sk-container-id-1 input.sk-hidden--visually {border: 0;clip: rect(1px 1px 1px 1px);clip: rect(1px, 1px, 1px, 1px);height: 1px;margin: -1px;overflow: hidden;padding: 0;position: absolute;width: 1px;}#sk-container-id-1 div.sk-estimator {font-family: monospace;background-color: #f0f8ff;border: 1px dotted black;border-radius: 0.25em;box-sizing: border-box;margin-bottom: 0.5em;}#sk-container-id-1 div.sk-estimator:hover {background-color: #d4ebff;}#sk-container-id-1 div.sk-parallel-item::after {content: \"\";width: 100%;border-bottom: 1px solid gray;flex-grow: 1;}#sk-container-id-1 div.sk-label:hover label.sk-toggleable__label {background-color: #d4ebff;}#sk-container-id-1 div.sk-serial::before {content: \"\";position: absolute;border-left: 1px solid gray;box-sizing: border-box;top: 0;bottom: 0;left: 50%;z-index: 0;}#sk-container-id-1 div.sk-serial {display: flex;flex-direction: column;align-items: center;background-color: white;padding-right: 0.2em;padding-left: 0.2em;position: relative;}#sk-container-id-1 div.sk-item {position: relative;z-index: 1;}#sk-container-id-1 div.sk-parallel {display: flex;align-items: stretch;justify-content: center;background-color: white;position: relative;}#sk-container-id-1 div.sk-item::before, #sk-container-id-1 div.sk-parallel-item::before {content: \"\";position: absolute;border-left: 1px solid gray;box-sizing: border-box;top: 0;bottom: 0;left: 50%;z-index: -1;}#sk-container-id-1 div.sk-parallel-item {display: flex;flex-direction: column;z-index: 1;position: relative;background-color: white;}#sk-container-id-1 div.sk-parallel-item:first-child::after {align-self: flex-end;width: 50%;}#sk-container-id-1 div.sk-parallel-item:last-child::after {align-self: flex-start;width: 50%;}#sk-container-id-1 div.sk-parallel-item:only-child::after {width: 0;}#sk-container-id-1 div.sk-dashed-wrapped {border: 1px dashed gray;margin: 0 0.4em 0.5em 0.4em;box-sizing: border-box;padding-bottom: 0.4em;background-color: white;}#sk-container-id-1 div.sk-label label {font-family: monospace;font-weight: bold;display: inline-block;line-height: 1.2em;}#sk-container-id-1 div.sk-label-container {text-align: center;}#sk-container-id-1 div.sk-container {/* jupyter's `normalize.less` sets `[hidden] { display: none; }` but bootstrap.min.css set `[hidden] { display: none !important; }` so we also need the `!important` here to be able to override the default hidden behavior on the sphinx rendered scikit-learn.org. See: https://github.com/scikit-learn/scikit-learn/issues/21755 */display: inline-block !important;position: relative;}#sk-container-id-1 div.sk-text-repr-fallback {display: none;}</style><div id=\"sk-container-id-1\" class=\"sk-top-container\"><div class=\"sk-text-repr-fallback\"><pre>XGBClassifier(base_score=None, booster=None, callbacks=None,\n",
       "              colsample_bylevel=None, colsample_bynode=None,\n",
       "              colsample_bytree=None, early_stopping_rounds=None,\n",
       "              enable_categorical=False, eval_metric=None, feature_types=None,\n",
       "              gamma=None, gpu_id=None, grow_policy=None, importance_type=None,\n",
       "              interaction_constraints=None, learning_rate=None, max_bin=None,\n",
       "              max_cat_threshold=None, max_cat_to_onehot=None,\n",
       "              max_delta_step=None, max_depth=None, max_leaves=None,\n",
       "              min_child_weight=None, missing=nan, monotone_constraints=None,\n",
       "              n_estimators=100, n_jobs=None, num_parallel_tree=None,\n",
       "              predictor=None, random_state=42, ...)</pre><b>In a Jupyter environment, please rerun this cell to show the HTML representation or trust the notebook. <br />On GitHub, the HTML representation is unable to render, please try loading this page with nbviewer.org.</b></div><div class=\"sk-container\" hidden><div class=\"sk-item\"><div class=\"sk-estimator sk-toggleable\"><input class=\"sk-toggleable__control sk-hidden--visually\" id=\"sk-estimator-id-1\" type=\"checkbox\" checked><label for=\"sk-estimator-id-1\" class=\"sk-toggleable__label sk-toggleable__label-arrow\">XGBClassifier</label><div class=\"sk-toggleable__content\"><pre>XGBClassifier(base_score=None, booster=None, callbacks=None,\n",
       "              colsample_bylevel=None, colsample_bynode=None,\n",
       "              colsample_bytree=None, early_stopping_rounds=None,\n",
       "              enable_categorical=False, eval_metric=None, feature_types=None,\n",
       "              gamma=None, gpu_id=None, grow_policy=None, importance_type=None,\n",
       "              interaction_constraints=None, learning_rate=None, max_bin=None,\n",
       "              max_cat_threshold=None, max_cat_to_onehot=None,\n",
       "              max_delta_step=None, max_depth=None, max_leaves=None,\n",
       "              min_child_weight=None, missing=nan, monotone_constraints=None,\n",
       "              n_estimators=100, n_jobs=None, num_parallel_tree=None,\n",
       "              predictor=None, random_state=42, ...)</pre></div></div></div></div></div>"
      ],
      "text/plain": [
       "XGBClassifier(base_score=None, booster=None, callbacks=None,\n",
       "              colsample_bylevel=None, colsample_bynode=None,\n",
       "              colsample_bytree=None, early_stopping_rounds=None,\n",
       "              enable_categorical=False, eval_metric=None, feature_types=None,\n",
       "              gamma=None, gpu_id=None, grow_policy=None, importance_type=None,\n",
       "              interaction_constraints=None, learning_rate=None, max_bin=None,\n",
       "              max_cat_threshold=None, max_cat_to_onehot=None,\n",
       "              max_delta_step=None, max_depth=None, max_leaves=None,\n",
       "              min_child_weight=None, missing=nan, monotone_constraints=None,\n",
       "              n_estimators=100, n_jobs=None, num_parallel_tree=None,\n",
       "              predictor=None, random_state=42, ...)"
      ]
     },
     "execution_count": 12,
     "metadata": {},
     "output_type": "execute_result"
    }
   ],
   "source": [
    "from xgboost import XGBClassifier\n",
    "from sklearn.model_selection import train_test_split\n",
    "from sklearn.metrics import accuracy_score\n",
    "\n",
    "# Create the individual classifiers\n",
    "\n",
    "model = XGBClassifier(random_state=42)\n",
    "\n",
    "\n",
    "\n",
    "# Fit the Voting Classifier on the training data\n",
    "model.fit(X_train, y_train)\n",
    "\n"
   ]
  },
  {
   "cell_type": "markdown",
   "id": "1c09f82f",
   "metadata": {
    "papermill": {
     "duration": 0.007035,
     "end_time": "2023-06-25T20:41:06.196167",
     "exception": false,
     "start_time": "2023-06-25T20:41:06.189132",
     "status": "completed"
    },
    "tags": []
   },
   "source": [
    "<a id=\"3\"></a> <br>\n",
    "# Model Evaluation\n"
   ]
  },
  {
   "cell_type": "code",
   "execution_count": 13,
   "id": "ba742740",
   "metadata": {
    "execution": {
     "iopub.execute_input": "2023-06-25T20:41:06.211746Z",
     "iopub.status.busy": "2023-06-25T20:41:06.211447Z",
     "iopub.status.idle": "2023-06-25T20:41:06.220060Z",
     "shell.execute_reply": "2023-06-25T20:41:06.219396Z"
    },
    "papermill": {
     "duration": 0.020098,
     "end_time": "2023-06-25T20:41:06.223580",
     "exception": false,
     "start_time": "2023-06-25T20:41:06.203482",
     "status": "completed"
    },
    "tags": []
   },
   "outputs": [
    {
     "name": "stdout",
     "output_type": "stream",
     "text": [
      "Accuracy: 0.972972972972973\n"
     ]
    }
   ],
   "source": [
    "from sklearn.metrics import accuracy_score\n",
    "\n",
    "# Predict classes on the test data\n",
    "y_pred = model.predict(X_test)\n",
    "\n",
    "accuracy = accuracy_score(y_test, y_pred)\n",
    "print(\"Accuracy:\", accuracy)\n"
   ]
  },
  {
   "cell_type": "code",
   "execution_count": 14,
   "id": "20eeaa94",
   "metadata": {
    "execution": {
     "iopub.execute_input": "2023-06-25T20:41:06.239565Z",
     "iopub.status.busy": "2023-06-25T20:41:06.239284Z",
     "iopub.status.idle": "2023-06-25T20:41:06.252197Z",
     "shell.execute_reply": "2023-06-25T20:41:06.251033Z"
    },
    "papermill": {
     "duration": 0.022609,
     "end_time": "2023-06-25T20:41:06.253965",
     "exception": false,
     "start_time": "2023-06-25T20:41:06.231356",
     "status": "completed"
    },
    "tags": []
   },
   "outputs": [
    {
     "name": "stdout",
     "output_type": "stream",
     "text": [
      "              precision    recall  f1-score   support\n",
      "\n",
      "           0       0.94      1.00      0.97        29\n",
      "           1       1.00      0.96      0.98        45\n",
      "\n",
      "    accuracy                           0.97        74\n",
      "   macro avg       0.97      0.98      0.97        74\n",
      "weighted avg       0.97      0.97      0.97        74\n",
      "\n"
     ]
    }
   ],
   "source": [
    "from sklearn.metrics import classification_report\n",
    "\n",
    "\n",
    "# Print the classification report\n",
    "print(classification_report(y_test, y_pred))"
   ]
  },
  {
   "cell_type": "code",
   "execution_count": 15,
   "id": "29be25ff",
   "metadata": {
    "execution": {
     "iopub.execute_input": "2023-06-25T20:41:06.270099Z",
     "iopub.status.busy": "2023-06-25T20:41:06.269366Z",
     "iopub.status.idle": "2023-06-25T20:41:06.543905Z",
     "shell.execute_reply": "2023-06-25T20:41:06.542984Z"
    },
    "papermill": {
     "duration": 0.284846,
     "end_time": "2023-06-25T20:41:06.546135",
     "exception": false,
     "start_time": "2023-06-25T20:41:06.261289",
     "status": "completed"
    },
    "tags": []
   },
   "outputs": [
    {
     "data": {
      "image/png": "[encoded data removed]",
      "text/plain": [
       "<Figure size 640x480 with 2 Axes>"
      ]
     },
     "metadata": {},
     "output_type": "display_data"
    }
   ],
   "source": [
    "import seaborn as sns\n",
    "from sklearn.metrics import confusion_matrix\n",
    "\n",
    "cm=confusion_matrix(y_test, y_pred)\n",
    "\n",
    "sns.heatmap(cm, annot=True, cmap=\"Blues\")\n",
    "plt.xlabel(\"Predicted\")\n",
    "plt.ylabel(\"Actual\")\n",
    "plt.show()"
   ]
  },
  {
   "cell_type": "code",
   "execution_count": 16,
   "id": "2339bf13",
   "metadata": {
    "execution": {
     "iopub.execute_input": "2023-06-25T20:41:06.564266Z",
     "iopub.status.busy": "2023-06-25T20:41:06.562667Z",
     "iopub.status.idle": "2023-06-25T20:41:06.853784Z",
     "shell.execute_reply": "2023-06-25T20:41:06.852905Z"
    },
    "papermill": {
     "duration": 0.302125,
     "end_time": "2023-06-25T20:41:06.856129",
     "exception": false,
     "start_time": "2023-06-25T20:41:06.554004",
     "status": "completed"
    },
    "tags": []
   },
   "outputs": [
    {
     "name": "stdout",
     "output_type": "stream",
     "text": [
      "ISI: 0.9928349852561951\n",
      "DC: 0.007164989598095417\n"
     ]
    },
    {
     "data": {
      "image/png": "[encoded data removed]",
      "text/plain": [
       "<Figure size 1000x600 with 1 Axes>"
      ]
     },
     "metadata": {},
     "output_type": "display_data"
    }
   ],
   "source": [
    "import xgboost as xgb\n",
    "import numpy as np\n",
    "import matplotlib.pyplot as plt\n",
    "\n",
    "# Assuming you have already trained an XGBoost model and assigned it to the variable 'model'\n",
    "# If not, you need to train an XGBoost model before running the code below\n",
    "\n",
    "# Retrieve feature importance scores from the trained model\n",
    "importance_scores = model.feature_importances_\n",
    "\n",
    "# Initialize feature names variable\n",
    "feature_names = None\n",
    "\n",
    "# Check if feature names are available\n",
    "if hasattr(model, 'feature_names_'):\n",
    "    feature_names = model.feature_names_\n",
    "else:\n",
    "    # Retrieve feature names from the input data structure used for training\n",
    "    if isinstance(model.get_booster().get_score(importance_type='weight'), dict):\n",
    "        # If you trained the model using a pandas DataFrame\n",
    "        sorted_features = sorted(model.get_booster().get_score(importance_type='weight').items(), key=lambda x: x[1], reverse=True)\n",
    "        feature_names = [f[0] for f in sorted_features]\n",
    "\n",
    "# Sort the feature importance scores and feature names in descending order\n",
    "sorted_indices = np.argsort(importance_scores)[::-1]\n",
    "sorted_scores = importance_scores[sorted_indices]\n",
    "sorted_names = [feature_names[i] if feature_names and i < len(feature_names) else f'Feature {i}' for i in sorted_indices]\n",
    "\n",
    "# Print the feature importance scores and names\n",
    "for score, name in zip(sorted_scores, sorted_names):\n",
    "    print(f\"{name}: {score}\")\n",
    "\n",
    "# Plotting the feature importance\n",
    "plt.figure(figsize=(10, 6))\n",
    "plt.bar(range(len(sorted_scores)), sorted_scores, tick_label=sorted_names)\n",
    "plt.xticks(rotation=90)\n",
    "plt.xlabel('Features')\n",
    "plt.ylabel('Importance Score')\n",
    "plt.title('Feature Importance')\n",
    "plt.tight_layout()\n",
    "plt.show()\n"
   ]
  },
  {
   "cell_type": "code",
   "execution_count": null,
   "id": "723bfb26",
   "metadata": {
    "papermill": {
     "duration": 0.007829,
     "end_time": "2023-06-25T20:41:06.872105",
     "exception": false,
     "start_time": "2023-06-25T20:41:06.864276",
     "status": "completed"
    },
    "tags": []
   },
   "outputs": [],
   "source": []
  }
 ],
 "metadata": {
  "kernelspec": {
   "display_name": "Python 3",
   "language": "python",
   "name": "python3"
  },
  "language_info": {
   "codemirror_mode": {
    "name": "ipython",
    "version": 3
   },
   "file_extension": ".py",
   "mimetype": "text/x-python",
   "name": "python",
   "nbconvert_exporter": "python",
   "pygments_lexer": "ipython3",
   "version": "3.10.10"
  },
  "papermill": {
   "default_parameters": {},
   "duration": 14.145169,
   "end_time": "2023-06-25T20:41:07.599451",
   "environment_variables": {},
   "exception": null,
   "input_path": "__notebook__.ipynb",
   "output_path": "__notebook__.ipynb",
   "parameters": {},
   "start_time": "2023-06-25T20:40:53.454282",
   "version": "2.4.0"
  }
 },
 "nbformat": 4,
 "nbformat_minor": 5
}
