{
 "cells": [
  {
   "cell_type": "markdown",
   "id": "bc45730e",
   "metadata": {
    "papermill": {
     "duration": 0.009686,
     "end_time": "2023-07-14T21:44:03.112079",
     "exception": false,
     "start_time": "2023-07-14T21:44:03.102393",
     "status": "completed"
    },
    "tags": []
   },
   "source": [
    "# Notebook's content\n",
    "1. [Loading Data](#0)\n",
    "2. [Pre-processing](#1)\n",
    "3. [XGBRegressor](#2)\n",
    "3. [Model Evaluation](#3)"
   ]
  },
  {
   "cell_type": "code",
   "execution_count": 1,
   "id": "2c62e764",
   "metadata": {
    "_cell_guid": "b1076dfc-b9ad-4769-8c92-a6c4dae69d19",
    "_uuid": "8f2839f25d086af736a60e9eeb907d3b93b6e0e5",
    "execution": {
     "iopub.execute_input": "2023-07-14T21:44:03.135330Z",
     "iopub.status.busy": "2023-07-14T21:44:03.134541Z",
     "iopub.status.idle": "2023-07-14T21:44:04.477783Z",
     "shell.execute_reply": "2023-07-14T21:44:04.476715Z"
    },
    "papermill": {
     "duration": 1.35908,
     "end_time": "2023-07-14T21:44:04.480210",
     "exception": false,
     "start_time": "2023-07-14T21:44:03.121130",
     "status": "completed"
    },
    "tags": []
   },
   "outputs": [
    {
     "data": {
      "text/plain": [
       "0"
      ]
     },
     "execution_count": 1,
     "metadata": {},
     "output_type": "execute_result"
    }
   ],
   "source": [
    "import numpy as np\n",
    "import pandas as pd\n",
    "import matplotlib as mpl\n",
    "import matplotlib.pyplot as plt\n",
    "import seaborn as sns\n",
    "import re\n",
    "import time\n",
    "import random\n",
    "import tempfile\n",
    "import gc\n",
    "gc.collect()"
   ]
  },
  {
   "cell_type": "markdown",
   "id": "c0f1f16d",
   "metadata": {
    "papermill": {
     "duration": 0.00631,
     "end_time": "2023-07-14T21:44:04.493138",
     "exception": false,
     "start_time": "2023-07-14T21:44:04.486828",
     "status": "completed"
    },
    "tags": []
   },
   "source": [
    "<a id=\"0\"></a> <br>\n",
    "# Loading Data"
   ]
  },
  {
   "cell_type": "code",
   "execution_count": 2,
   "id": "66fb191d",
   "metadata": {
    "execution": {
     "iopub.execute_input": "2023-07-14T21:44:04.508476Z",
     "iopub.status.busy": "2023-07-14T21:44:04.507542Z",
     "iopub.status.idle": "2023-07-14T21:44:04.570202Z",
     "shell.execute_reply": "2023-07-14T21:44:04.569090Z"
    },
    "papermill": {
     "duration": 0.07262,
     "end_time": "2023-07-14T21:44:04.572524",
     "exception": false,
     "start_time": "2023-07-14T21:44:04.499904",
     "status": "completed"
    },
    "tags": []
   },
   "outputs": [],
   "source": [
    "df = pd.read_csv('/kaggle/input/crop-yield-prediction-dataset/yield_df.csv')"
   ]
  },
  {
   "cell_type": "code",
   "execution_count": 3,
   "id": "93de101f",
   "metadata": {
    "execution": {
     "iopub.execute_input": "2023-07-14T21:44:04.587206Z",
     "iopub.status.busy": "2023-07-14T21:44:04.586908Z",
     "iopub.status.idle": "2023-07-14T21:44:04.611665Z",
     "shell.execute_reply": "2023-07-14T21:44:04.610819Z"
    },
    "papermill": {
     "duration": 0.034501,
     "end_time": "2023-07-14T21:44:04.613830",
     "exception": false,
     "start_time": "2023-07-14T21:44:04.579329",
     "status": "completed"
    },
    "tags": []
   },
   "outputs": [
    {
     "data": {
      "text/html": [
       "<div>\n",
       "<style scoped>\n",
       "    .dataframe tbody tr th:only-of-type {\n",
       "        vertical-align: middle;\n",
       "    }\n",
       "\n",
       "    .dataframe tbody tr th {\n",
       "        vertical-align: top;\n",
       "    }\n",
       "\n",
       "    .dataframe thead th {\n",
       "        text-align: right;\n",
       "    }\n",
       "</style>\n",
       "<table border=\"1\" class=\"dataframe\">\n",
       "  <thead>\n",
       "    <tr style=\"text-align: right;\">\n",
       "      <th></th>\n",
       "      <th>Unnamed: 0</th>\n",
       "      <th>Area</th>\n",
       "      <th>Item</th>\n",
       "      <th>Year</th>\n",
       "      <th>hg/ha_yield</th>\n",
       "      <th>average_rain_fall_mm_per_year</th>\n",
       "      <th>pesticides_tonnes</th>\n",
       "      <th>avg_temp</th>\n",
       "    </tr>\n",
       "  </thead>\n",
       "  <tbody>\n",
       "    <tr>\n",
       "      <th>0</th>\n",
       "      <td>0</td>\n",
       "      <td>Albania</td>\n",
       "      <td>Maize</td>\n",
       "      <td>1990</td>\n",
       "      <td>36613</td>\n",
       "      <td>1485.0</td>\n",
       "      <td>121.00</td>\n",
       "      <td>16.37</td>\n",
       "    </tr>\n",
       "    <tr>\n",
       "      <th>1</th>\n",
       "      <td>1</td>\n",
       "      <td>Albania</td>\n",
       "      <td>Potatoes</td>\n",
       "      <td>1990</td>\n",
       "      <td>66667</td>\n",
       "      <td>1485.0</td>\n",
       "      <td>121.00</td>\n",
       "      <td>16.37</td>\n",
       "    </tr>\n",
       "    <tr>\n",
       "      <th>2</th>\n",
       "      <td>2</td>\n",
       "      <td>Albania</td>\n",
       "      <td>Rice, paddy</td>\n",
       "      <td>1990</td>\n",
       "      <td>23333</td>\n",
       "      <td>1485.0</td>\n",
       "      <td>121.00</td>\n",
       "      <td>16.37</td>\n",
       "    </tr>\n",
       "    <tr>\n",
       "      <th>3</th>\n",
       "      <td>3</td>\n",
       "      <td>Albania</td>\n",
       "      <td>Sorghum</td>\n",
       "      <td>1990</td>\n",
       "      <td>12500</td>\n",
       "      <td>1485.0</td>\n",
       "      <td>121.00</td>\n",
       "      <td>16.37</td>\n",
       "    </tr>\n",
       "    <tr>\n",
       "      <th>4</th>\n",
       "      <td>4</td>\n",
       "      <td>Albania</td>\n",
       "      <td>Soybeans</td>\n",
       "      <td>1990</td>\n",
       "      <td>7000</td>\n",
       "      <td>1485.0</td>\n",
       "      <td>121.00</td>\n",
       "      <td>16.37</td>\n",
       "    </tr>\n",
       "    <tr>\n",
       "      <th>...</th>\n",
       "      <td>...</td>\n",
       "      <td>...</td>\n",
       "      <td>...</td>\n",
       "      <td>...</td>\n",
       "      <td>...</td>\n",
       "      <td>...</td>\n",
       "      <td>...</td>\n",
       "      <td>...</td>\n",
       "    </tr>\n",
       "    <tr>\n",
       "      <th>28237</th>\n",
       "      <td>28237</td>\n",
       "      <td>Zimbabwe</td>\n",
       "      <td>Rice, paddy</td>\n",
       "      <td>2013</td>\n",
       "      <td>22581</td>\n",
       "      <td>657.0</td>\n",
       "      <td>2550.07</td>\n",
       "      <td>19.76</td>\n",
       "    </tr>\n",
       "    <tr>\n",
       "      <th>28238</th>\n",
       "      <td>28238</td>\n",
       "      <td>Zimbabwe</td>\n",
       "      <td>Sorghum</td>\n",
       "      <td>2013</td>\n",
       "      <td>3066</td>\n",
       "      <td>657.0</td>\n",
       "      <td>2550.07</td>\n",
       "      <td>19.76</td>\n",
       "    </tr>\n",
       "    <tr>\n",
       "      <th>28239</th>\n",
       "      <td>28239</td>\n",
       "      <td>Zimbabwe</td>\n",
       "      <td>Soybeans</td>\n",
       "      <td>2013</td>\n",
       "      <td>13142</td>\n",
       "      <td>657.0</td>\n",
       "      <td>2550.07</td>\n",
       "      <td>19.76</td>\n",
       "    </tr>\n",
       "    <tr>\n",
       "      <th>28240</th>\n",
       "      <td>28240</td>\n",
       "      <td>Zimbabwe</td>\n",
       "      <td>Sweet potatoes</td>\n",
       "      <td>2013</td>\n",
       "      <td>22222</td>\n",
       "      <td>657.0</td>\n",
       "      <td>2550.07</td>\n",
       "      <td>19.76</td>\n",
       "    </tr>\n",
       "    <tr>\n",
       "      <th>28241</th>\n",
       "      <td>28241</td>\n",
       "      <td>Zimbabwe</td>\n",
       "      <td>Wheat</td>\n",
       "      <td>2013</td>\n",
       "      <td>22888</td>\n",
       "      <td>657.0</td>\n",
       "      <td>2550.07</td>\n",
       "      <td>19.76</td>\n",
       "    </tr>\n",
       "  </tbody>\n",
       "</table>\n",
       "<p>28242 rows × 8 columns</p>\n",
       "</div>"
      ],
      "text/plain": [
       "       Unnamed: 0      Area            Item  Year  hg/ha_yield  \\\n",
       "0               0   Albania           Maize  1990        36613   \n",
       "1               1   Albania        Potatoes  1990        66667   \n",
       "2               2   Albania     Rice, paddy  1990        23333   \n",
       "3               3   Albania         Sorghum  1990        12500   \n",
       "4               4   Albania        Soybeans  1990         7000   \n",
       "...           ...       ...             ...   ...          ...   \n",
       "28237       28237  Zimbabwe     Rice, paddy  2013        22581   \n",
       "28238       28238  Zimbabwe         Sorghum  2013         3066   \n",
       "28239       28239  Zimbabwe        Soybeans  2013        13142   \n",
       "28240       28240  Zimbabwe  Sweet potatoes  2013        22222   \n",
       "28241       28241  Zimbabwe           Wheat  2013        22888   \n",
       "\n",
       "       average_rain_fall_mm_per_year  pesticides_tonnes  avg_temp  \n",
       "0                             1485.0             121.00     16.37  \n",
       "1                             1485.0             121.00     16.37  \n",
       "2                             1485.0             121.00     16.37  \n",
       "3                             1485.0             121.00     16.37  \n",
       "4                             1485.0             121.00     16.37  \n",
       "...                              ...                ...       ...  \n",
       "28237                          657.0            2550.07     19.76  \n",
       "28238                          657.0            2550.07     19.76  \n",
       "28239                          657.0            2550.07     19.76  \n",
       "28240                          657.0            2550.07     19.76  \n",
       "28241                          657.0            2550.07     19.76  \n",
       "\n",
       "[28242 rows x 8 columns]"
      ]
     },
     "execution_count": 3,
     "metadata": {},
     "output_type": "execute_result"
    }
   ],
   "source": [
    "df"
   ]
  },
  {
   "cell_type": "markdown",
   "id": "687987cf",
   "metadata": {
    "papermill": {
     "duration": 0.006677,
     "end_time": "2023-07-14T21:44:04.627734",
     "exception": false,
     "start_time": "2023-07-14T21:44:04.621057",
     "status": "completed"
    },
    "tags": []
   },
   "source": [
    "<a id=\"1\"></a> <br>\n",
    "# Pre-processing\n"
   ]
  },
  {
   "cell_type": "code",
   "execution_count": 4,
   "id": "bb44e2e6",
   "metadata": {
    "execution": {
     "iopub.execute_input": "2023-07-14T21:44:04.643088Z",
     "iopub.status.busy": "2023-07-14T21:44:04.642810Z",
     "iopub.status.idle": "2023-07-14T21:44:04.717430Z",
     "shell.execute_reply": "2023-07-14T21:44:04.716324Z"
    },
    "papermill": {
     "duration": 0.086139,
     "end_time": "2023-07-14T21:44:04.720941",
     "exception": false,
     "start_time": "2023-07-14T21:44:04.634802",
     "status": "completed"
    },
    "tags": []
   },
   "outputs": [
    {
     "name": "stderr",
     "output_type": "stream",
     "text": [
      "/tmp/ipykernel_23/2694430884.py:1: FutureWarning: The default value of numeric_only in DataFrame.median is deprecated. In a future version, it will default to False. In addition, specifying 'numeric_only=None' is deprecated. Select only valid columns or specify the value of numeric_only to silence this warning.\n",
      "  df = df.fillna(df.median())\n"
     ]
    }
   ],
   "source": [
    "df = df.fillna(df.median())\n",
    "df = df.fillna(df.mode().iloc[0])\n",
    "df = df.drop_duplicates()\n"
   ]
  },
  {
   "cell_type": "code",
   "execution_count": 5,
   "id": "f15c41fb",
   "metadata": {
    "execution": {
     "iopub.execute_input": "2023-07-14T21:44:04.736415Z",
     "iopub.status.busy": "2023-07-14T21:44:04.736111Z",
     "iopub.status.idle": "2023-07-14T21:44:04.889279Z",
     "shell.execute_reply": "2023-07-14T21:44:04.888325Z"
    },
    "papermill": {
     "duration": 0.163596,
     "end_time": "2023-07-14T21:44:04.891615",
     "exception": false,
     "start_time": "2023-07-14T21:44:04.728019",
     "status": "completed"
    },
    "tags": []
   },
   "outputs": [],
   "source": [
    "from sklearn.preprocessing import LabelEncoder\n",
    "\n",
    "# Assuming you have a DataFrame called \"df\" with categorical columns to label encode\n",
    "categorical_cols = ['Area', 'Item']\n",
    "\n",
    "# Create a LabelEncoder object\n",
    "label_encoder = LabelEncoder()\n",
    "\n",
    "# Iterate over each categorical column and label encode it\n",
    "for col in categorical_cols:\n",
    "    df[col] = label_encoder.fit_transform(df[col])\n",
    "\n",
    "# The categorical columns are now label encoded in the DataFrame\n"
   ]
  },
  {
   "cell_type": "code",
   "execution_count": 6,
   "id": "4ce71141",
   "metadata": {
    "execution": {
     "iopub.execute_input": "2023-07-14T21:44:04.907423Z",
     "iopub.status.busy": "2023-07-14T21:44:04.906648Z",
     "iopub.status.idle": "2023-07-14T21:44:04.924372Z",
     "shell.execute_reply": "2023-07-14T21:44:04.923490Z"
    },
    "papermill": {
     "duration": 0.027742,
     "end_time": "2023-07-14T21:44:04.926380",
     "exception": false,
     "start_time": "2023-07-14T21:44:04.898638",
     "status": "completed"
    },
    "tags": []
   },
   "outputs": [
    {
     "data": {
      "text/html": [
       "<div>\n",
       "<style scoped>\n",
       "    .dataframe tbody tr th:only-of-type {\n",
       "        vertical-align: middle;\n",
       "    }\n",
       "\n",
       "    .dataframe tbody tr th {\n",
       "        vertical-align: top;\n",
       "    }\n",
       "\n",
       "    .dataframe thead th {\n",
       "        text-align: right;\n",
       "    }\n",
       "</style>\n",
       "<table border=\"1\" class=\"dataframe\">\n",
       "  <thead>\n",
       "    <tr style=\"text-align: right;\">\n",
       "      <th></th>\n",
       "      <th>Unnamed: 0</th>\n",
       "      <th>Area</th>\n",
       "      <th>Item</th>\n",
       "      <th>Year</th>\n",
       "      <th>hg/ha_yield</th>\n",
       "      <th>average_rain_fall_mm_per_year</th>\n",
       "      <th>pesticides_tonnes</th>\n",
       "      <th>avg_temp</th>\n",
       "    </tr>\n",
       "  </thead>\n",
       "  <tbody>\n",
       "    <tr>\n",
       "      <th>0</th>\n",
       "      <td>0</td>\n",
       "      <td>0</td>\n",
       "      <td>1</td>\n",
       "      <td>1990</td>\n",
       "      <td>36613</td>\n",
       "      <td>1485.0</td>\n",
       "      <td>121.00</td>\n",
       "      <td>16.37</td>\n",
       "    </tr>\n",
       "    <tr>\n",
       "      <th>1</th>\n",
       "      <td>1</td>\n",
       "      <td>0</td>\n",
       "      <td>3</td>\n",
       "      <td>1990</td>\n",
       "      <td>66667</td>\n",
       "      <td>1485.0</td>\n",
       "      <td>121.00</td>\n",
       "      <td>16.37</td>\n",
       "    </tr>\n",
       "    <tr>\n",
       "      <th>2</th>\n",
       "      <td>2</td>\n",
       "      <td>0</td>\n",
       "      <td>4</td>\n",
       "      <td>1990</td>\n",
       "      <td>23333</td>\n",
       "      <td>1485.0</td>\n",
       "      <td>121.00</td>\n",
       "      <td>16.37</td>\n",
       "    </tr>\n",
       "    <tr>\n",
       "      <th>3</th>\n",
       "      <td>3</td>\n",
       "      <td>0</td>\n",
       "      <td>5</td>\n",
       "      <td>1990</td>\n",
       "      <td>12500</td>\n",
       "      <td>1485.0</td>\n",
       "      <td>121.00</td>\n",
       "      <td>16.37</td>\n",
       "    </tr>\n",
       "    <tr>\n",
       "      <th>4</th>\n",
       "      <td>4</td>\n",
       "      <td>0</td>\n",
       "      <td>6</td>\n",
       "      <td>1990</td>\n",
       "      <td>7000</td>\n",
       "      <td>1485.0</td>\n",
       "      <td>121.00</td>\n",
       "      <td>16.37</td>\n",
       "    </tr>\n",
       "    <tr>\n",
       "      <th>...</th>\n",
       "      <td>...</td>\n",
       "      <td>...</td>\n",
       "      <td>...</td>\n",
       "      <td>...</td>\n",
       "      <td>...</td>\n",
       "      <td>...</td>\n",
       "      <td>...</td>\n",
       "      <td>...</td>\n",
       "    </tr>\n",
       "    <tr>\n",
       "      <th>28237</th>\n",
       "      <td>28237</td>\n",
       "      <td>100</td>\n",
       "      <td>4</td>\n",
       "      <td>2013</td>\n",
       "      <td>22581</td>\n",
       "      <td>657.0</td>\n",
       "      <td>2550.07</td>\n",
       "      <td>19.76</td>\n",
       "    </tr>\n",
       "    <tr>\n",
       "      <th>28238</th>\n",
       "      <td>28238</td>\n",
       "      <td>100</td>\n",
       "      <td>5</td>\n",
       "      <td>2013</td>\n",
       "      <td>3066</td>\n",
       "      <td>657.0</td>\n",
       "      <td>2550.07</td>\n",
       "      <td>19.76</td>\n",
       "    </tr>\n",
       "    <tr>\n",
       "      <th>28239</th>\n",
       "      <td>28239</td>\n",
       "      <td>100</td>\n",
       "      <td>6</td>\n",
       "      <td>2013</td>\n",
       "      <td>13142</td>\n",
       "      <td>657.0</td>\n",
       "      <td>2550.07</td>\n",
       "      <td>19.76</td>\n",
       "    </tr>\n",
       "    <tr>\n",
       "      <th>28240</th>\n",
       "      <td>28240</td>\n",
       "      <td>100</td>\n",
       "      <td>7</td>\n",
       "      <td>2013</td>\n",
       "      <td>22222</td>\n",
       "      <td>657.0</td>\n",
       "      <td>2550.07</td>\n",
       "      <td>19.76</td>\n",
       "    </tr>\n",
       "    <tr>\n",
       "      <th>28241</th>\n",
       "      <td>28241</td>\n",
       "      <td>100</td>\n",
       "      <td>8</td>\n",
       "      <td>2013</td>\n",
       "      <td>22888</td>\n",
       "      <td>657.0</td>\n",
       "      <td>2550.07</td>\n",
       "      <td>19.76</td>\n",
       "    </tr>\n",
       "  </tbody>\n",
       "</table>\n",
       "<p>28242 rows × 8 columns</p>\n",
       "</div>"
      ],
      "text/plain": [
       "       Unnamed: 0  Area  Item  Year  hg/ha_yield  \\\n",
       "0               0     0     1  1990        36613   \n",
       "1               1     0     3  1990        66667   \n",
       "2               2     0     4  1990        23333   \n",
       "3               3     0     5  1990        12500   \n",
       "4               4     0     6  1990         7000   \n",
       "...           ...   ...   ...   ...          ...   \n",
       "28237       28237   100     4  2013        22581   \n",
       "28238       28238   100     5  2013         3066   \n",
       "28239       28239   100     6  2013        13142   \n",
       "28240       28240   100     7  2013        22222   \n",
       "28241       28241   100     8  2013        22888   \n",
       "\n",
       "       average_rain_fall_mm_per_year  pesticides_tonnes  avg_temp  \n",
       "0                             1485.0             121.00     16.37  \n",
       "1                             1485.0             121.00     16.37  \n",
       "2                             1485.0             121.00     16.37  \n",
       "3                             1485.0             121.00     16.37  \n",
       "4                             1485.0             121.00     16.37  \n",
       "...                              ...                ...       ...  \n",
       "28237                          657.0            2550.07     19.76  \n",
       "28238                          657.0            2550.07     19.76  \n",
       "28239                          657.0            2550.07     19.76  \n",
       "28240                          657.0            2550.07     19.76  \n",
       "28241                          657.0            2550.07     19.76  \n",
       "\n",
       "[28242 rows x 8 columns]"
      ]
     },
     "execution_count": 6,
     "metadata": {},
     "output_type": "execute_result"
    }
   ],
   "source": [
    "df"
   ]
  },
  {
   "cell_type": "code",
   "execution_count": 7,
   "id": "6d6145be",
   "metadata": {
    "execution": {
     "iopub.execute_input": "2023-07-14T21:44:04.942509Z",
     "iopub.status.busy": "2023-07-14T21:44:04.941783Z",
     "iopub.status.idle": "2023-07-14T21:44:04.958713Z",
     "shell.execute_reply": "2023-07-14T21:44:04.957622Z"
    },
    "papermill": {
     "duration": 0.027821,
     "end_time": "2023-07-14T21:44:04.961600",
     "exception": false,
     "start_time": "2023-07-14T21:44:04.933779",
     "status": "completed"
    },
    "tags": []
   },
   "outputs": [
    {
     "data": {
      "text/html": [
       "<div>\n",
       "<style scoped>\n",
       "    .dataframe tbody tr th:only-of-type {\n",
       "        vertical-align: middle;\n",
       "    }\n",
       "\n",
       "    .dataframe tbody tr th {\n",
       "        vertical-align: top;\n",
       "    }\n",
       "\n",
       "    .dataframe thead th {\n",
       "        text-align: right;\n",
       "    }\n",
       "</style>\n",
       "<table border=\"1\" class=\"dataframe\">\n",
       "  <thead>\n",
       "    <tr style=\"text-align: right;\">\n",
       "      <th></th>\n",
       "      <th>Area</th>\n",
       "      <th>Item</th>\n",
       "      <th>Year</th>\n",
       "      <th>hg/ha_yield</th>\n",
       "      <th>average_rain_fall_mm_per_year</th>\n",
       "      <th>pesticides_tonnes</th>\n",
       "      <th>avg_temp</th>\n",
       "    </tr>\n",
       "  </thead>\n",
       "  <tbody>\n",
       "    <tr>\n",
       "      <th>0</th>\n",
       "      <td>0</td>\n",
       "      <td>1</td>\n",
       "      <td>1990</td>\n",
       "      <td>36613</td>\n",
       "      <td>1485.0</td>\n",
       "      <td>121.00</td>\n",
       "      <td>16.37</td>\n",
       "    </tr>\n",
       "    <tr>\n",
       "      <th>1</th>\n",
       "      <td>0</td>\n",
       "      <td>3</td>\n",
       "      <td>1990</td>\n",
       "      <td>66667</td>\n",
       "      <td>1485.0</td>\n",
       "      <td>121.00</td>\n",
       "      <td>16.37</td>\n",
       "    </tr>\n",
       "    <tr>\n",
       "      <th>2</th>\n",
       "      <td>0</td>\n",
       "      <td>4</td>\n",
       "      <td>1990</td>\n",
       "      <td>23333</td>\n",
       "      <td>1485.0</td>\n",
       "      <td>121.00</td>\n",
       "      <td>16.37</td>\n",
       "    </tr>\n",
       "    <tr>\n",
       "      <th>3</th>\n",
       "      <td>0</td>\n",
       "      <td>5</td>\n",
       "      <td>1990</td>\n",
       "      <td>12500</td>\n",
       "      <td>1485.0</td>\n",
       "      <td>121.00</td>\n",
       "      <td>16.37</td>\n",
       "    </tr>\n",
       "    <tr>\n",
       "      <th>4</th>\n",
       "      <td>0</td>\n",
       "      <td>6</td>\n",
       "      <td>1990</td>\n",
       "      <td>7000</td>\n",
       "      <td>1485.0</td>\n",
       "      <td>121.00</td>\n",
       "      <td>16.37</td>\n",
       "    </tr>\n",
       "    <tr>\n",
       "      <th>...</th>\n",
       "      <td>...</td>\n",
       "      <td>...</td>\n",
       "      <td>...</td>\n",
       "      <td>...</td>\n",
       "      <td>...</td>\n",
       "      <td>...</td>\n",
       "      <td>...</td>\n",
       "    </tr>\n",
       "    <tr>\n",
       "      <th>28237</th>\n",
       "      <td>100</td>\n",
       "      <td>4</td>\n",
       "      <td>2013</td>\n",
       "      <td>22581</td>\n",
       "      <td>657.0</td>\n",
       "      <td>2550.07</td>\n",
       "      <td>19.76</td>\n",
       "    </tr>\n",
       "    <tr>\n",
       "      <th>28238</th>\n",
       "      <td>100</td>\n",
       "      <td>5</td>\n",
       "      <td>2013</td>\n",
       "      <td>3066</td>\n",
       "      <td>657.0</td>\n",
       "      <td>2550.07</td>\n",
       "      <td>19.76</td>\n",
       "    </tr>\n",
       "    <tr>\n",
       "      <th>28239</th>\n",
       "      <td>100</td>\n",
       "      <td>6</td>\n",
       "      <td>2013</td>\n",
       "      <td>13142</td>\n",
       "      <td>657.0</td>\n",
       "      <td>2550.07</td>\n",
       "      <td>19.76</td>\n",
       "    </tr>\n",
       "    <tr>\n",
       "      <th>28240</th>\n",
       "      <td>100</td>\n",
       "      <td>7</td>\n",
       "      <td>2013</td>\n",
       "      <td>22222</td>\n",
       "      <td>657.0</td>\n",
       "      <td>2550.07</td>\n",
       "      <td>19.76</td>\n",
       "    </tr>\n",
       "    <tr>\n",
       "      <th>28241</th>\n",
       "      <td>100</td>\n",
       "      <td>8</td>\n",
       "      <td>2013</td>\n",
       "      <td>22888</td>\n",
       "      <td>657.0</td>\n",
       "      <td>2550.07</td>\n",
       "      <td>19.76</td>\n",
       "    </tr>\n",
       "  </tbody>\n",
       "</table>\n",
       "<p>28242 rows × 7 columns</p>\n",
       "</div>"
      ],
      "text/plain": [
       "       Area  Item  Year  hg/ha_yield  average_rain_fall_mm_per_year  \\\n",
       "0         0     1  1990        36613                         1485.0   \n",
       "1         0     3  1990        66667                         1485.0   \n",
       "2         0     4  1990        23333                         1485.0   \n",
       "3         0     5  1990        12500                         1485.0   \n",
       "4         0     6  1990         7000                         1485.0   \n",
       "...     ...   ...   ...          ...                            ...   \n",
       "28237   100     4  2013        22581                          657.0   \n",
       "28238   100     5  2013         3066                          657.0   \n",
       "28239   100     6  2013        13142                          657.0   \n",
       "28240   100     7  2013        22222                          657.0   \n",
       "28241   100     8  2013        22888                          657.0   \n",
       "\n",
       "       pesticides_tonnes  avg_temp  \n",
       "0                 121.00     16.37  \n",
       "1                 121.00     16.37  \n",
       "2                 121.00     16.37  \n",
       "3                 121.00     16.37  \n",
       "4                 121.00     16.37  \n",
       "...                  ...       ...  \n",
       "28237            2550.07     19.76  \n",
       "28238            2550.07     19.76  \n",
       "28239            2550.07     19.76  \n",
       "28240            2550.07     19.76  \n",
       "28241            2550.07     19.76  \n",
       "\n",
       "[28242 rows x 7 columns]"
      ]
     },
     "execution_count": 7,
     "metadata": {},
     "output_type": "execute_result"
    }
   ],
   "source": [
    "df.drop(['Unnamed: 0'], axis=1, inplace=True)\n",
    "\n",
    "df"
   ]
  },
  {
   "cell_type": "code",
   "execution_count": 8,
   "id": "35165d0c",
   "metadata": {
    "execution": {
     "iopub.execute_input": "2023-07-14T21:44:04.978108Z",
     "iopub.status.busy": "2023-07-14T21:44:04.977349Z",
     "iopub.status.idle": "2023-07-14T21:44:04.991515Z",
     "shell.execute_reply": "2023-07-14T21:44:04.990652Z"
    },
    "papermill": {
     "duration": 0.024415,
     "end_time": "2023-07-14T21:44:04.993544",
     "exception": false,
     "start_time": "2023-07-14T21:44:04.969129",
     "status": "completed"
    },
    "tags": []
   },
   "outputs": [],
   "source": [
    "corr_matrix = df.corr()\n",
    "\n",
    "# Find highly correlated features\n",
    "highly_correlated_features = []\n",
    "threshold = 0.7  # Adjust the threshold as desired\n",
    "\n",
    "for i in range(len(corr_matrix.columns)):\n",
    "    for j in range(i+1, len(corr_matrix.columns)):\n",
    "        if abs(corr_matrix.iloc[i, j]) > threshold:\n",
    "            # Append the correlated feature pair\n",
    "            feature_i = corr_matrix.columns[i]\n",
    "            feature_j = corr_matrix.columns[j]\n",
    "            correlation = corr_matrix.iloc[i, j]\n",
    "            highly_correlated_features.append((feature_i, feature_j, correlation))\n",
    "\n",
    "# Print the highly correlated features\n",
    "for feature_i, feature_j, correlation in highly_correlated_features:\n",
    "    print(f\"{feature_i} and {feature_j} are highly correlated: {correlation}\")"
   ]
  },
  {
   "cell_type": "code",
   "execution_count": 9,
   "id": "076641f4",
   "metadata": {
    "execution": {
     "iopub.execute_input": "2023-07-14T21:44:05.010093Z",
     "iopub.status.busy": "2023-07-14T21:44:05.009303Z",
     "iopub.status.idle": "2023-07-14T21:44:05.015242Z",
     "shell.execute_reply": "2023-07-14T21:44:05.014163Z"
    },
    "papermill": {
     "duration": 0.01624,
     "end_time": "2023-07-14T21:44:05.017258",
     "exception": false,
     "start_time": "2023-07-14T21:44:05.001018",
     "status": "completed"
    },
    "tags": []
   },
   "outputs": [],
   "source": [
    "\n",
    "X = df.drop(['hg/ha_yield'], axis=1)\n",
    "y = df['hg/ha_yield']"
   ]
  },
  {
   "cell_type": "code",
   "execution_count": 10,
   "id": "3dc12ffd",
   "metadata": {
    "execution": {
     "iopub.execute_input": "2023-07-14T21:44:05.033800Z",
     "iopub.status.busy": "2023-07-14T21:44:05.033164Z",
     "iopub.status.idle": "2023-07-14T21:44:05.125701Z",
     "shell.execute_reply": "2023-07-14T21:44:05.124810Z"
    },
    "papermill": {
     "duration": 0.10299,
     "end_time": "2023-07-14T21:44:05.127983",
     "exception": false,
     "start_time": "2023-07-14T21:44:05.024993",
     "status": "completed"
    },
    "tags": []
   },
   "outputs": [],
   "source": [
    "from sklearn.model_selection import train_test_split\n",
    "\n",
    "\n",
    "# Split the data into train and test sets\n",
    "X_train, X_test, y_train, y_test = train_test_split(X, y, test_size=0.25, random_state=42)"
   ]
  },
  {
   "cell_type": "code",
   "execution_count": 11,
   "id": "37bbd334",
   "metadata": {
    "execution": {
     "iopub.execute_input": "2023-07-14T21:44:05.144273Z",
     "iopub.status.busy": "2023-07-14T21:44:05.144003Z",
     "iopub.status.idle": "2023-07-14T21:44:05.158968Z",
     "shell.execute_reply": "2023-07-14T21:44:05.157924Z"
    },
    "papermill": {
     "duration": 0.027288,
     "end_time": "2023-07-14T21:44:05.162728",
     "exception": false,
     "start_time": "2023-07-14T21:44:05.135440",
     "status": "completed"
    },
    "tags": []
   },
   "outputs": [
    {
     "data": {
      "text/html": [
       "<div>\n",
       "<style scoped>\n",
       "    .dataframe tbody tr th:only-of-type {\n",
       "        vertical-align: middle;\n",
       "    }\n",
       "\n",
       "    .dataframe tbody tr th {\n",
       "        vertical-align: top;\n",
       "    }\n",
       "\n",
       "    .dataframe thead th {\n",
       "        text-align: right;\n",
       "    }\n",
       "</style>\n",
       "<table border=\"1\" class=\"dataframe\">\n",
       "  <thead>\n",
       "    <tr style=\"text-align: right;\">\n",
       "      <th></th>\n",
       "      <th>Area</th>\n",
       "      <th>Item</th>\n",
       "      <th>Year</th>\n",
       "      <th>average_rain_fall_mm_per_year</th>\n",
       "      <th>pesticides_tonnes</th>\n",
       "      <th>avg_temp</th>\n",
       "    </tr>\n",
       "  </thead>\n",
       "  <tbody>\n",
       "    <tr>\n",
       "      <th>25564</th>\n",
       "      <td>85</td>\n",
       "      <td>4</td>\n",
       "      <td>2008</td>\n",
       "      <td>636.0</td>\n",
       "      <td>40719.00</td>\n",
       "      <td>17.21</td>\n",
       "    </tr>\n",
       "    <tr>\n",
       "      <th>18113</th>\n",
       "      <td>56</td>\n",
       "      <td>8</td>\n",
       "      <td>1996</td>\n",
       "      <td>1513.0</td>\n",
       "      <td>152.01</td>\n",
       "      <td>19.71</td>\n",
       "    </tr>\n",
       "    <tr>\n",
       "      <th>25607</th>\n",
       "      <td>85</td>\n",
       "      <td>5</td>\n",
       "      <td>2010</td>\n",
       "      <td>636.0</td>\n",
       "      <td>39043.00</td>\n",
       "      <td>16.51</td>\n",
       "    </tr>\n",
       "    <tr>\n",
       "      <th>6815</th>\n",
       "      <td>22</td>\n",
       "      <td>3</td>\n",
       "      <td>2007</td>\n",
       "      <td>3240.0</td>\n",
       "      <td>82439.06</td>\n",
       "      <td>27.45</td>\n",
       "    </tr>\n",
       "    <tr>\n",
       "      <th>18144</th>\n",
       "      <td>56</td>\n",
       "      <td>7</td>\n",
       "      <td>2000</td>\n",
       "      <td>1513.0</td>\n",
       "      <td>130.46</td>\n",
       "      <td>19.65</td>\n",
       "    </tr>\n",
       "    <tr>\n",
       "      <th>...</th>\n",
       "      <td>...</td>\n",
       "      <td>...</td>\n",
       "      <td>...</td>\n",
       "      <td>...</td>\n",
       "      <td>...</td>\n",
       "      <td>...</td>\n",
       "    </tr>\n",
       "    <tr>\n",
       "      <th>4149</th>\n",
       "      <td>14</td>\n",
       "      <td>3</td>\n",
       "      <td>2007</td>\n",
       "      <td>1761.0</td>\n",
       "      <td>304031.00</td>\n",
       "      <td>20.93</td>\n",
       "    </tr>\n",
       "    <tr>\n",
       "      <th>8769</th>\n",
       "      <td>32</td>\n",
       "      <td>6</td>\n",
       "      <td>1992</td>\n",
       "      <td>867.0</td>\n",
       "      <td>85249.00</td>\n",
       "      <td>11.15</td>\n",
       "    </tr>\n",
       "    <tr>\n",
       "      <th>10128</th>\n",
       "      <td>39</td>\n",
       "      <td>0</td>\n",
       "      <td>2010</td>\n",
       "      <td>1440.0</td>\n",
       "      <td>27.85</td>\n",
       "      <td>27.19</td>\n",
       "    </tr>\n",
       "    <tr>\n",
       "      <th>20433</th>\n",
       "      <td>62</td>\n",
       "      <td>7</td>\n",
       "      <td>2013</td>\n",
       "      <td>758.0</td>\n",
       "      <td>59920.18</td>\n",
       "      <td>25.36</td>\n",
       "    </tr>\n",
       "    <tr>\n",
       "      <th>12876</th>\n",
       "      <td>42</td>\n",
       "      <td>4</td>\n",
       "      <td>2004</td>\n",
       "      <td>1083.0</td>\n",
       "      <td>35113.00</td>\n",
       "      <td>27.29</td>\n",
       "    </tr>\n",
       "  </tbody>\n",
       "</table>\n",
       "<p>7061 rows × 6 columns</p>\n",
       "</div>"
      ],
      "text/plain": [
       "       Area  Item  Year  average_rain_fall_mm_per_year  pesticides_tonnes  \\\n",
       "25564    85     4  2008                          636.0           40719.00   \n",
       "18113    56     8  1996                         1513.0             152.01   \n",
       "25607    85     5  2010                          636.0           39043.00   \n",
       "6815     22     3  2007                         3240.0           82439.06   \n",
       "18144    56     7  2000                         1513.0             130.46   \n",
       "...     ...   ...   ...                            ...                ...   \n",
       "4149     14     3  2007                         1761.0          304031.00   \n",
       "8769     32     6  1992                          867.0           85249.00   \n",
       "10128    39     0  2010                         1440.0              27.85   \n",
       "20433    62     7  2013                          758.0           59920.18   \n",
       "12876    42     4  2004                         1083.0           35113.00   \n",
       "\n",
       "       avg_temp  \n",
       "25564     17.21  \n",
       "18113     19.71  \n",
       "25607     16.51  \n",
       "6815      27.45  \n",
       "18144     19.65  \n",
       "...         ...  \n",
       "4149      20.93  \n",
       "8769      11.15  \n",
       "10128     27.19  \n",
       "20433     25.36  \n",
       "12876     27.29  \n",
       "\n",
       "[7061 rows x 6 columns]"
      ]
     },
     "execution_count": 11,
     "metadata": {},
     "output_type": "execute_result"
    }
   ],
   "source": [
    "X_test"
   ]
  },
  {
   "cell_type": "markdown",
   "id": "a3b6d4f3",
   "metadata": {
    "papermill": {
     "duration": 0.007425,
     "end_time": "2023-07-14T21:44:05.178054",
     "exception": false,
     "start_time": "2023-07-14T21:44:05.170629",
     "status": "completed"
    },
    "tags": []
   },
   "source": [
    "<a id=\"2\"></a> <br>\n",
    "# XGBClassifier\n"
   ]
  },
  {
   "cell_type": "code",
   "execution_count": 12,
   "id": "4a440f5c",
   "metadata": {
    "execution": {
     "iopub.execute_input": "2023-07-14T21:44:05.195017Z",
     "iopub.status.busy": "2023-07-14T21:44:05.194298Z",
     "iopub.status.idle": "2023-07-14T21:44:05.198694Z",
     "shell.execute_reply": "2023-07-14T21:44:05.197803Z"
    },
    "papermill": {
     "duration": 0.014972,
     "end_time": "2023-07-14T21:44:05.200861",
     "exception": false,
     "start_time": "2023-07-14T21:44:05.185889",
     "status": "completed"
    },
    "tags": []
   },
   "outputs": [],
   "source": [
    "from sklearn.preprocessing import MinMaxScaler\n",
    "\n",
    "from sklearn.metrics import mean_squared_error , mean_absolute_error , r2_score\n"
   ]
  },
  {
   "cell_type": "code",
   "execution_count": 13,
   "id": "920f3127",
   "metadata": {
    "execution": {
     "iopub.execute_input": "2023-07-14T21:44:05.217641Z",
     "iopub.status.busy": "2023-07-14T21:44:05.217381Z",
     "iopub.status.idle": "2023-07-14T21:44:05.228465Z",
     "shell.execute_reply": "2023-07-14T21:44:05.227614Z"
    },
    "papermill": {
     "duration": 0.02168,
     "end_time": "2023-07-14T21:44:05.230503",
     "exception": false,
     "start_time": "2023-07-14T21:44:05.208823",
     "status": "completed"
    },
    "tags": []
   },
   "outputs": [],
   "source": [
    "mmc = MinMaxScaler()\n",
    "X_train = mmc.fit_transform(X_train)\n",
    "X_test = mmc.transform(X_test)"
   ]
  },
  {
   "cell_type": "code",
   "execution_count": 14,
   "id": "e024e47b",
   "metadata": {
    "execution": {
     "iopub.execute_input": "2023-07-14T21:44:05.246726Z",
     "iopub.status.busy": "2023-07-14T21:44:05.246460Z",
     "iopub.status.idle": "2023-07-14T21:44:06.921246Z",
     "shell.execute_reply": "2023-07-14T21:44:06.920510Z"
    },
    "papermill": {
     "duration": 1.685289,
     "end_time": "2023-07-14T21:44:06.923328",
     "exception": false,
     "start_time": "2023-07-14T21:44:05.238039",
     "status": "completed"
    },
    "tags": []
   },
   "outputs": [
    {
     "name": "stdout",
     "output_type": "stream",
     "text": [
      "Predicted values: [ 73630.45     696.338  38991.78  ...  58113.9   179546.98   23965.168]\n"
     ]
    },
    {
     "name": "stderr",
     "output_type": "stream",
     "text": [
      "/tmp/ipykernel_23/4210618630.py:11: FutureWarning: The frame.append method is deprecated and will be removed from pandas in a future version. Use pandas.concat instead.\n",
      "  Model_perf = Model_perf.append(new_row,ignore_index = True)\n"
     ]
    }
   ],
   "source": [
    "from xgboost import XGBRegressor\n",
    "XG_boost = XGBRegressor(max_depth = 3,n_estimators = 300 )\n",
    "\n",
    "XG_boost.fit(X_train , y_train)\n",
    "y_pred = XG_boost.predict(X_test)\n",
    "XG_rmse = mean_squared_error(y_test,y_pred)\n",
    "XG_R2 = r2_score(y_test,y_pred)\n",
    "Model_perf = pd.DataFrame(columns=['Model_Name','MSE','R2_Score'])\n",
    "\n",
    "new_row = {'Model_Name':'XGB','MSE':XG_rmse ,'R2_Score': XG_R2}\n",
    "Model_perf = Model_perf.append(new_row,ignore_index = True)\n",
    "print(\"Predicted values:\", y_pred)\n"
   ]
  },
  {
   "cell_type": "code",
   "execution_count": 15,
   "id": "1a20a596",
   "metadata": {
    "execution": {
     "iopub.execute_input": "2023-07-14T21:44:06.941418Z",
     "iopub.status.busy": "2023-07-14T21:44:06.941123Z",
     "iopub.status.idle": "2023-07-14T21:44:06.950115Z",
     "shell.execute_reply": "2023-07-14T21:44:06.949161Z"
    },
    "papermill": {
     "duration": 0.020099,
     "end_time": "2023-07-14T21:44:06.952188",
     "exception": false,
     "start_time": "2023-07-14T21:44:06.932089",
     "status": "completed"
    },
    "tags": []
   },
   "outputs": [
    {
     "data": {
      "text/html": [
       "<div>\n",
       "<style scoped>\n",
       "    .dataframe tbody tr th:only-of-type {\n",
       "        vertical-align: middle;\n",
       "    }\n",
       "\n",
       "    .dataframe tbody tr th {\n",
       "        vertical-align: top;\n",
       "    }\n",
       "\n",
       "    .dataframe thead th {\n",
       "        text-align: right;\n",
       "    }\n",
       "</style>\n",
       "<table border=\"1\" class=\"dataframe\">\n",
       "  <thead>\n",
       "    <tr style=\"text-align: right;\">\n",
       "      <th></th>\n",
       "      <th>Model_Name</th>\n",
       "      <th>MSE</th>\n",
       "      <th>R2_Score</th>\n",
       "    </tr>\n",
       "  </thead>\n",
       "  <tbody>\n",
       "    <tr>\n",
       "      <th>0</th>\n",
       "      <td>XGB</td>\n",
       "      <td>5.242873e+08</td>\n",
       "      <td>0.928251</td>\n",
       "    </tr>\n",
       "  </tbody>\n",
       "</table>\n",
       "</div>"
      ],
      "text/plain": [
       "  Model_Name           MSE  R2_Score\n",
       "0        XGB  5.242873e+08  0.928251"
      ]
     },
     "execution_count": 15,
     "metadata": {},
     "output_type": "execute_result"
    }
   ],
   "source": [
    "Model_perf "
   ]
  },
  {
   "cell_type": "markdown",
   "id": "9a82a117",
   "metadata": {
    "papermill": {
     "duration": 0.007746,
     "end_time": "2023-07-14T21:44:06.968209",
     "exception": false,
     "start_time": "2023-07-14T21:44:06.960463",
     "status": "completed"
    },
    "tags": []
   },
   "source": [
    "<a id=\"3\"></a> <br>\n",
    "# Model Evaluation\n"
   ]
  },
  {
   "cell_type": "code",
   "execution_count": 16,
   "id": "459bcb4a",
   "metadata": {
    "execution": {
     "iopub.execute_input": "2023-07-14T21:44:06.986004Z",
     "iopub.status.busy": "2023-07-14T21:44:06.985212Z",
     "iopub.status.idle": "2023-07-14T21:44:07.006228Z",
     "shell.execute_reply": "2023-07-14T21:44:07.005527Z"
    },
    "papermill": {
     "duration": 0.0318,
     "end_time": "2023-07-14T21:44:07.008158",
     "exception": false,
     "start_time": "2023-07-14T21:44:06.976358",
     "status": "completed"
    },
    "tags": []
   },
   "outputs": [
    {
     "name": "stdout",
     "output_type": "stream",
     "text": [
      "Mean Squared Error: 524287347.45147437\n"
     ]
    }
   ],
   "source": [
    "from sklearn.metrics import accuracy_score\n",
    "\n",
    "# Make predictions on the testing data\n",
    "y_pred = XG_boost.predict(X_test)\n",
    "\n",
    "# Calculate and print the mean squared error\n",
    "mse = mean_squared_error(y_test, y_pred)\n",
    "print(\"Mean Squared Error:\", mse)\n"
   ]
  },
  {
   "cell_type": "code",
   "execution_count": 17,
   "id": "cd73de3d",
   "metadata": {
    "execution": {
     "iopub.execute_input": "2023-07-14T21:44:07.026896Z",
     "iopub.status.busy": "2023-07-14T21:44:07.026601Z",
     "iopub.status.idle": "2023-07-14T21:44:07.409624Z",
     "shell.execute_reply": "2023-07-14T21:44:07.408676Z"
    },
    "papermill": {
     "duration": 0.395477,
     "end_time": "2023-07-14T21:44:07.412804",
     "exception": false,
     "start_time": "2023-07-14T21:44:07.017327",
     "status": "completed"
    },
    "tags": []
   },
   "outputs": [
    {
     "name": "stdout",
     "output_type": "stream",
     "text": [
      "f0: 0.49345308542251587\n",
      "f2: 0.13801957666873932\n",
      "f5: 0.12277138978242874\n",
      "f1: 0.0912562757730484\n",
      "f4: 0.09086477756500244\n",
      "f3: 0.06363489478826523\n"
     ]
    },
    {
     "data": {
      "image/png": "[encoded data removed]",
      "text/plain": [
       "<Figure size 1000x600 with 1 Axes>"
      ]
     },
     "metadata": {},
     "output_type": "display_data"
    }
   ],
   "source": [
    "import xgboost as xgb\n",
    "import numpy as np\n",
    "import matplotlib.pyplot as plt\n",
    "\n",
    "# Assuming you have already trained an XGBoost model and assigned it to the variable 'model'\n",
    "# If not, you need to train an XGBoost model before running the code below\n",
    "\n",
    "# Retrieve feature importance scores from the trained model\n",
    "importance_scores = XG_boost.feature_importances_\n",
    "\n",
    "# Initialize feature names variable\n",
    "feature_names = None\n",
    "\n",
    "# Check if feature names are available\n",
    "if hasattr(XG_boost, 'feature_names_'):\n",
    "    feature_names = XG_boost.feature_names_\n",
    "else:\n",
    "    # Retrieve feature names from the input data structure used for training\n",
    "    if isinstance(XG_boost.get_booster().get_score(importance_type='weight'), dict):\n",
    "        # If you trained the model using a pandas DataFrame\n",
    "        sorted_features = sorted(XG_boost.get_booster().get_score(importance_type='weight').items(), key=lambda x: x[1], reverse=True)\n",
    "        feature_names = [f[0] for f in sorted_features]\n",
    "\n",
    "# Sort the feature importance scores and feature names in descending order\n",
    "sorted_indices = np.argsort(importance_scores)[::-1]\n",
    "sorted_scores = importance_scores[sorted_indices]\n",
    "sorted_names = [feature_names[i] if feature_names and i < len(feature_names) else f'Feature {i}' for i in sorted_indices]\n",
    "\n",
    "# Print the feature importance scores and names\n",
    "for score, name in zip(sorted_scores, sorted_names):\n",
    "    print(f\"{name}: {score}\")\n",
    "\n",
    "# Plotting the feature importance\n",
    "plt.figure(figsize=(10, 6))\n",
    "plt.bar(range(len(sorted_scores)), sorted_scores, tick_label=sorted_names)\n",
    "plt.xticks(rotation=90)\n",
    "plt.xlabel('Features')\n",
    "plt.ylabel('Importance Score')\n",
    "plt.title('Feature Importance')\n",
    "plt.tight_layout()\n",
    "plt.show()\n"
   ]
  },
  {
   "cell_type": "code",
   "execution_count": 18,
   "id": "9da20d61",
   "metadata": {
    "execution": {
     "iopub.execute_input": "2023-07-14T21:44:07.433926Z",
     "iopub.status.busy": "2023-07-14T21:44:07.433599Z",
     "iopub.status.idle": "2023-07-14T21:44:07.444387Z",
     "shell.execute_reply": "2023-07-14T21:44:07.443699Z"
    },
    "papermill": {
     "duration": 0.023799,
     "end_time": "2023-07-14T21:44:07.446461",
     "exception": false,
     "start_time": "2023-07-14T21:44:07.422662",
     "status": "completed"
    },
    "tags": []
   },
   "outputs": [],
   "source": [
    "import pickle\n",
    "\n",
    "# Assuming you have trained and obtained the XGB model called \"model\"\n",
    "\n",
    "# Save the model to a file\n",
    "filename = '/kaggle/working/xgb_model.sav'\n",
    "pickle.dump(XG_boost, open(filename, 'wb'))"
   ]
  },
  {
   "cell_type": "code",
   "execution_count": 19,
   "id": "a8464dda",
   "metadata": {
    "execution": {
     "iopub.execute_input": "2023-07-14T21:44:07.466910Z",
     "iopub.status.busy": "2023-07-14T21:44:07.466602Z",
     "iopub.status.idle": "2023-07-14T21:44:07.479729Z",
     "shell.execute_reply": "2023-07-14T21:44:07.478986Z"
    },
    "papermill": {
     "duration": 0.025544,
     "end_time": "2023-07-14T21:44:07.481697",
     "exception": false,
     "start_time": "2023-07-14T21:44:07.456153",
     "status": "completed"
    },
    "tags": []
   },
   "outputs": [],
   "source": [
    "loaded_model = pickle.load(open(filename, 'rb'))\n"
   ]
  },
  {
   "cell_type": "code",
   "execution_count": null,
   "id": "db7fa101",
   "metadata": {
    "papermill": {
     "duration": 0.008278,
     "end_time": "2023-07-14T21:44:07.499373",
     "exception": false,
     "start_time": "2023-07-14T21:44:07.491095",
     "status": "completed"
    },
    "tags": []
   },
   "outputs": [],
   "source": []
  }
 ],
 "metadata": {
  "kernelspec": {
   "display_name": "Python 3",
   "language": "python",
   "name": "python3"
  },
  "language_info": {
   "codemirror_mode": {
    "name": "ipython",
    "version": 3
   },
   "file_extension": ".py",
   "mimetype": "text/x-python",
   "name": "python",
   "nbconvert_exporter": "python",
   "pygments_lexer": "ipython3",
   "version": "3.10.10"
  },
  "papermill": {
   "default_parameters": {},
   "duration": 16.122414,
   "end_time": "2023-07-14T21:44:08.227719",
   "environment_variables": {},
   "exception": null,
   "input_path": "__notebook__.ipynb",
   "output_path": "__notebook__.ipynb",
   "parameters": {},
   "start_time": "2023-07-14T21:43:52.105305",
   "version": "2.4.0"
  }
 },
 "nbformat": 4,
 "nbformat_minor": 5
}
